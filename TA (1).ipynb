{
  "nbformat": 4,
  "nbformat_minor": 0,
  "metadata": {
    "colab": {
      "provenance": []
    },
    "kernelspec": {
      "name": "python3",
      "display_name": "Python 3"
    },
    "language_info": {
      "name": "python"
    }
  },
  "cells": [
    {
      "cell_type": "code",
      "execution_count": null,
      "metadata": {
        "colab": {
          "base_uri": "https://localhost:8080/"
        },
        "id": "mU_2wqf45g-V",
        "outputId": "a2946424-6f45-42e9-f86b-715a61bcd761"
      },
      "outputs": [
        {
          "output_type": "stream",
          "name": "stdout",
          "text": [
            "Mounted at /content/drive\n"
          ]
        }
      ],
      "source": [
        "from google.colab import drive\n",
        "drive.mount('/content/drive')"
      ]
    },
    {
      "cell_type": "code",
      "source": [
        "import os\n",
        "import warnings\n",
        "import matplotlib.pyplot as plt\n",
        "import numpy as np\n",
        "import pandas as pd\n",
        "import datetime as dt\n",
        "import math\n",
        "from sklearn.preprocessing import MinMaxScaler"
      ],
      "metadata": {
        "id": "OdUDmCbD5irQ"
      },
      "execution_count": null,
      "outputs": []
    },
    {
      "cell_type": "code",
      "source": [
        "df= pd.read_csv('drive/MyDrive/ta1/new1.csv', index_col=0, parse_dates=True, skipinitialspace=True)"
      ],
      "metadata": {
        "id": "A9LYWvZT5x5U"
      },
      "execution_count": null,
      "outputs": []
    },
    {
      "cell_type": "code",
      "source": [
        "df = df.drop(['KursTengah', 'KursJual2'], axis=1)"
      ],
      "metadata": {
        "id": "KhdRwuFp51gv"
      },
      "execution_count": null,
      "outputs": []
    },
    {
      "cell_type": "code",
      "source": [
        "df.head()"
      ],
      "metadata": {
        "colab": {
          "base_uri": "https://localhost:8080/",
          "height": 237
        },
        "id": "JmoV27k0zOCL",
        "outputId": "b2b967be-ff74-49c2-ed53-9b1eab3e94d2"
      },
      "execution_count": null,
      "outputs": [
        {
          "output_type": "execute_result",
          "data": {
            "text/plain": [
              "            KursJual  KursBeli  KursTgh\n",
              "Date                                   \n",
              "2013-01-02      9733      9637     9685\n",
              "2013-01-03      9718      9622     9670\n",
              "2013-01-04      9723      9627     9675\n",
              "2013-01-05      9744      9648     9696\n",
              "2013-01-06      9766      9668     9717"
            ],
            "text/html": [
              "\n",
              "  <div id=\"df-0dd1c2e1-b0a0-4436-940b-3d79dea4eadd\" class=\"colab-df-container\">\n",
              "    <div>\n",
              "<style scoped>\n",
              "    .dataframe tbody tr th:only-of-type {\n",
              "        vertical-align: middle;\n",
              "    }\n",
              "\n",
              "    .dataframe tbody tr th {\n",
              "        vertical-align: top;\n",
              "    }\n",
              "\n",
              "    .dataframe thead th {\n",
              "        text-align: right;\n",
              "    }\n",
              "</style>\n",
              "<table border=\"1\" class=\"dataframe\">\n",
              "  <thead>\n",
              "    <tr style=\"text-align: right;\">\n",
              "      <th></th>\n",
              "      <th>KursJual</th>\n",
              "      <th>KursBeli</th>\n",
              "      <th>KursTgh</th>\n",
              "    </tr>\n",
              "    <tr>\n",
              "      <th>Date</th>\n",
              "      <th></th>\n",
              "      <th></th>\n",
              "      <th></th>\n",
              "    </tr>\n",
              "  </thead>\n",
              "  <tbody>\n",
              "    <tr>\n",
              "      <th>2013-01-02</th>\n",
              "      <td>9733</td>\n",
              "      <td>9637</td>\n",
              "      <td>9685</td>\n",
              "    </tr>\n",
              "    <tr>\n",
              "      <th>2013-01-03</th>\n",
              "      <td>9718</td>\n",
              "      <td>9622</td>\n",
              "      <td>9670</td>\n",
              "    </tr>\n",
              "    <tr>\n",
              "      <th>2013-01-04</th>\n",
              "      <td>9723</td>\n",
              "      <td>9627</td>\n",
              "      <td>9675</td>\n",
              "    </tr>\n",
              "    <tr>\n",
              "      <th>2013-01-05</th>\n",
              "      <td>9744</td>\n",
              "      <td>9648</td>\n",
              "      <td>9696</td>\n",
              "    </tr>\n",
              "    <tr>\n",
              "      <th>2013-01-06</th>\n",
              "      <td>9766</td>\n",
              "      <td>9668</td>\n",
              "      <td>9717</td>\n",
              "    </tr>\n",
              "  </tbody>\n",
              "</table>\n",
              "</div>\n",
              "    <div class=\"colab-df-buttons\">\n",
              "\n",
              "  <div class=\"colab-df-container\">\n",
              "    <button class=\"colab-df-convert\" onclick=\"convertToInteractive('df-0dd1c2e1-b0a0-4436-940b-3d79dea4eadd')\"\n",
              "            title=\"Convert this dataframe to an interactive table.\"\n",
              "            style=\"display:none;\">\n",
              "\n",
              "  <svg xmlns=\"http://www.w3.org/2000/svg\" height=\"24px\" viewBox=\"0 -960 960 960\">\n",
              "    <path d=\"M120-120v-720h720v720H120Zm60-500h600v-160H180v160Zm220 220h160v-160H400v160Zm0 220h160v-160H400v160ZM180-400h160v-160H180v160Zm440 0h160v-160H620v160ZM180-180h160v-160H180v160Zm440 0h160v-160H620v160Z\"/>\n",
              "  </svg>\n",
              "    </button>\n",
              "\n",
              "  <style>\n",
              "    .colab-df-container {\n",
              "      display:flex;\n",
              "      gap: 12px;\n",
              "    }\n",
              "\n",
              "    .colab-df-convert {\n",
              "      background-color: #E8F0FE;\n",
              "      border: none;\n",
              "      border-radius: 50%;\n",
              "      cursor: pointer;\n",
              "      display: none;\n",
              "      fill: #1967D2;\n",
              "      height: 32px;\n",
              "      padding: 0 0 0 0;\n",
              "      width: 32px;\n",
              "    }\n",
              "\n",
              "    .colab-df-convert:hover {\n",
              "      background-color: #E2EBFA;\n",
              "      box-shadow: 0px 1px 2px rgba(60, 64, 67, 0.3), 0px 1px 3px 1px rgba(60, 64, 67, 0.15);\n",
              "      fill: #174EA6;\n",
              "    }\n",
              "\n",
              "    .colab-df-buttons div {\n",
              "      margin-bottom: 4px;\n",
              "    }\n",
              "\n",
              "    [theme=dark] .colab-df-convert {\n",
              "      background-color: #3B4455;\n",
              "      fill: #D2E3FC;\n",
              "    }\n",
              "\n",
              "    [theme=dark] .colab-df-convert:hover {\n",
              "      background-color: #434B5C;\n",
              "      box-shadow: 0px 1px 3px 1px rgba(0, 0, 0, 0.15);\n",
              "      filter: drop-shadow(0px 1px 2px rgba(0, 0, 0, 0.3));\n",
              "      fill: #FFFFFF;\n",
              "    }\n",
              "  </style>\n",
              "\n",
              "    <script>\n",
              "      const buttonEl =\n",
              "        document.querySelector('#df-0dd1c2e1-b0a0-4436-940b-3d79dea4eadd button.colab-df-convert');\n",
              "      buttonEl.style.display =\n",
              "        google.colab.kernel.accessAllowed ? 'block' : 'none';\n",
              "\n",
              "      async function convertToInteractive(key) {\n",
              "        const element = document.querySelector('#df-0dd1c2e1-b0a0-4436-940b-3d79dea4eadd');\n",
              "        const dataTable =\n",
              "          await google.colab.kernel.invokeFunction('convertToInteractive',\n",
              "                                                    [key], {});\n",
              "        if (!dataTable) return;\n",
              "\n",
              "        const docLinkHtml = 'Like what you see? Visit the ' +\n",
              "          '<a target=\"_blank\" href=https://colab.research.google.com/notebooks/data_table.ipynb>data table notebook</a>'\n",
              "          + ' to learn more about interactive tables.';\n",
              "        element.innerHTML = '';\n",
              "        dataTable['output_type'] = 'display_data';\n",
              "        await google.colab.output.renderOutput(dataTable, element);\n",
              "        const docLink = document.createElement('div');\n",
              "        docLink.innerHTML = docLinkHtml;\n",
              "        element.appendChild(docLink);\n",
              "      }\n",
              "    </script>\n",
              "  </div>\n",
              "\n",
              "\n",
              "<div id=\"df-171b9d66-863b-44d7-b38c-2ac6cf93790f\">\n",
              "  <button class=\"colab-df-quickchart\" onclick=\"quickchart('df-171b9d66-863b-44d7-b38c-2ac6cf93790f')\"\n",
              "            title=\"Suggest charts\"\n",
              "            style=\"display:none;\">\n",
              "\n",
              "<svg xmlns=\"http://www.w3.org/2000/svg\" height=\"24px\"viewBox=\"0 0 24 24\"\n",
              "     width=\"24px\">\n",
              "    <g>\n",
              "        <path d=\"M19 3H5c-1.1 0-2 .9-2 2v14c0 1.1.9 2 2 2h14c1.1 0 2-.9 2-2V5c0-1.1-.9-2-2-2zM9 17H7v-7h2v7zm4 0h-2V7h2v10zm4 0h-2v-4h2v4z\"/>\n",
              "    </g>\n",
              "</svg>\n",
              "  </button>\n",
              "\n",
              "<style>\n",
              "  .colab-df-quickchart {\n",
              "      --bg-color: #E8F0FE;\n",
              "      --fill-color: #1967D2;\n",
              "      --hover-bg-color: #E2EBFA;\n",
              "      --hover-fill-color: #174EA6;\n",
              "      --disabled-fill-color: #AAA;\n",
              "      --disabled-bg-color: #DDD;\n",
              "  }\n",
              "\n",
              "  [theme=dark] .colab-df-quickchart {\n",
              "      --bg-color: #3B4455;\n",
              "      --fill-color: #D2E3FC;\n",
              "      --hover-bg-color: #434B5C;\n",
              "      --hover-fill-color: #FFFFFF;\n",
              "      --disabled-bg-color: #3B4455;\n",
              "      --disabled-fill-color: #666;\n",
              "  }\n",
              "\n",
              "  .colab-df-quickchart {\n",
              "    background-color: var(--bg-color);\n",
              "    border: none;\n",
              "    border-radius: 50%;\n",
              "    cursor: pointer;\n",
              "    display: none;\n",
              "    fill: var(--fill-color);\n",
              "    height: 32px;\n",
              "    padding: 0;\n",
              "    width: 32px;\n",
              "  }\n",
              "\n",
              "  .colab-df-quickchart:hover {\n",
              "    background-color: var(--hover-bg-color);\n",
              "    box-shadow: 0 1px 2px rgba(60, 64, 67, 0.3), 0 1px 3px 1px rgba(60, 64, 67, 0.15);\n",
              "    fill: var(--button-hover-fill-color);\n",
              "  }\n",
              "\n",
              "  .colab-df-quickchart-complete:disabled,\n",
              "  .colab-df-quickchart-complete:disabled:hover {\n",
              "    background-color: var(--disabled-bg-color);\n",
              "    fill: var(--disabled-fill-color);\n",
              "    box-shadow: none;\n",
              "  }\n",
              "\n",
              "  .colab-df-spinner {\n",
              "    border: 2px solid var(--fill-color);\n",
              "    border-color: transparent;\n",
              "    border-bottom-color: var(--fill-color);\n",
              "    animation:\n",
              "      spin 1s steps(1) infinite;\n",
              "  }\n",
              "\n",
              "  @keyframes spin {\n",
              "    0% {\n",
              "      border-color: transparent;\n",
              "      border-bottom-color: var(--fill-color);\n",
              "      border-left-color: var(--fill-color);\n",
              "    }\n",
              "    20% {\n",
              "      border-color: transparent;\n",
              "      border-left-color: var(--fill-color);\n",
              "      border-top-color: var(--fill-color);\n",
              "    }\n",
              "    30% {\n",
              "      border-color: transparent;\n",
              "      border-left-color: var(--fill-color);\n",
              "      border-top-color: var(--fill-color);\n",
              "      border-right-color: var(--fill-color);\n",
              "    }\n",
              "    40% {\n",
              "      border-color: transparent;\n",
              "      border-right-color: var(--fill-color);\n",
              "      border-top-color: var(--fill-color);\n",
              "    }\n",
              "    60% {\n",
              "      border-color: transparent;\n",
              "      border-right-color: var(--fill-color);\n",
              "    }\n",
              "    80% {\n",
              "      border-color: transparent;\n",
              "      border-right-color: var(--fill-color);\n",
              "      border-bottom-color: var(--fill-color);\n",
              "    }\n",
              "    90% {\n",
              "      border-color: transparent;\n",
              "      border-bottom-color: var(--fill-color);\n",
              "    }\n",
              "  }\n",
              "</style>\n",
              "\n",
              "  <script>\n",
              "    async function quickchart(key) {\n",
              "      const quickchartButtonEl =\n",
              "        document.querySelector('#' + key + ' button');\n",
              "      quickchartButtonEl.disabled = true;  // To prevent multiple clicks.\n",
              "      quickchartButtonEl.classList.add('colab-df-spinner');\n",
              "      try {\n",
              "        const charts = await google.colab.kernel.invokeFunction(\n",
              "            'suggestCharts', [key], {});\n",
              "      } catch (error) {\n",
              "        console.error('Error during call to suggestCharts:', error);\n",
              "      }\n",
              "      quickchartButtonEl.classList.remove('colab-df-spinner');\n",
              "      quickchartButtonEl.classList.add('colab-df-quickchart-complete');\n",
              "    }\n",
              "    (() => {\n",
              "      let quickchartButtonEl =\n",
              "        document.querySelector('#df-171b9d66-863b-44d7-b38c-2ac6cf93790f button');\n",
              "      quickchartButtonEl.style.display =\n",
              "        google.colab.kernel.accessAllowed ? 'block' : 'none';\n",
              "    })();\n",
              "  </script>\n",
              "</div>\n",
              "    </div>\n",
              "  </div>\n"
            ]
          },
          "metadata": {},
          "execution_count": 5
        }
      ]
    },
    {
      "cell_type": "markdown",
      "source": [
        "Korelasi Spearman"
      ],
      "metadata": {
        "id": "WSlSUsOx7R_t"
      }
    },
    {
      "cell_type": "code",
      "source": [
        "from scipy.stats import spearmanr\n",
        "\n",
        "correlation_1, p_value_1 = spearmanr(df['KursJual'], df['KursBeli'])\n",
        "correlation_2, p_value_2 = spearmanr(df['KursJual'], df['KursTgh'])\n",
        "correlation_3, p_value_3 = spearmanr(df['KursBeli'], df['KursTgh'])\n",
        "\n",
        "# Output korelasi dan p-value untuk setiap pasangan variabel\n",
        "print(\"Korelasi KursJual dan KursBeli:\", correlation_1)\n",
        "print(\"P-Value KursJual dan KursBeli:\", p_value_1)\n",
        "print(\"\\nKorelasi KursJual dan KursTgh:\", correlation_2)\n",
        "print(\"P-Value KursJual dan KursTgh:\", p_value_2)\n",
        "print(\"\\nKorelasi KursBeli dan KursTgh:\", correlation_3)\n",
        "print(\"P-Value KursBeli dan KursTgh:\", p_value_3)"
      ],
      "metadata": {
        "colab": {
          "base_uri": "https://localhost:8080/"
        },
        "id": "e8WDBoDC6NJE",
        "outputId": "27fe15eb-f9a8-45a8-bd04-5fadd9571af5"
      },
      "execution_count": null,
      "outputs": [
        {
          "output_type": "stream",
          "name": "stdout",
          "text": [
            "Korelasi KursJual dan KursBeli: 0.9999998621573775\n",
            "P-Value KursJual dan KursBeli: 0.0\n",
            "\n",
            "Korelasi KursJual dan KursTgh: 0.9999999223650846\n",
            "P-Value KursJual dan KursTgh: 0.0\n",
            "\n",
            "Korelasi KursBeli dan KursTgh: 0.9999999462449334\n",
            "P-Value KursBeli dan KursTgh: 0.0\n"
          ]
        }
      ]
    },
    {
      "cell_type": "code",
      "source": [
        "df.head()"
      ],
      "metadata": {
        "colab": {
          "base_uri": "https://localhost:8080/",
          "height": 237
        },
        "id": "Xzz09VF_Vzme",
        "outputId": "597e538a-3511-471c-effd-ea479b26f5de"
      },
      "execution_count": null,
      "outputs": [
        {
          "output_type": "execute_result",
          "data": {
            "text/plain": [
              "            KursJual  KursBeli  KursTgh\n",
              "Date                                   \n",
              "2013-01-02      9733      9637     9685\n",
              "2013-01-03      9718      9622     9670\n",
              "2013-01-04      9723      9627     9675\n",
              "2013-01-05      9744      9648     9696\n",
              "2013-01-06      9766      9668     9717"
            ],
            "text/html": [
              "\n",
              "  <div id=\"df-7e94e156-da57-4992-82ce-12e4e9e84507\" class=\"colab-df-container\">\n",
              "    <div>\n",
              "<style scoped>\n",
              "    .dataframe tbody tr th:only-of-type {\n",
              "        vertical-align: middle;\n",
              "    }\n",
              "\n",
              "    .dataframe tbody tr th {\n",
              "        vertical-align: top;\n",
              "    }\n",
              "\n",
              "    .dataframe thead th {\n",
              "        text-align: right;\n",
              "    }\n",
              "</style>\n",
              "<table border=\"1\" class=\"dataframe\">\n",
              "  <thead>\n",
              "    <tr style=\"text-align: right;\">\n",
              "      <th></th>\n",
              "      <th>KursJual</th>\n",
              "      <th>KursBeli</th>\n",
              "      <th>KursTgh</th>\n",
              "    </tr>\n",
              "    <tr>\n",
              "      <th>Date</th>\n",
              "      <th></th>\n",
              "      <th></th>\n",
              "      <th></th>\n",
              "    </tr>\n",
              "  </thead>\n",
              "  <tbody>\n",
              "    <tr>\n",
              "      <th>2013-01-02</th>\n",
              "      <td>9733</td>\n",
              "      <td>9637</td>\n",
              "      <td>9685</td>\n",
              "    </tr>\n",
              "    <tr>\n",
              "      <th>2013-01-03</th>\n",
              "      <td>9718</td>\n",
              "      <td>9622</td>\n",
              "      <td>9670</td>\n",
              "    </tr>\n",
              "    <tr>\n",
              "      <th>2013-01-04</th>\n",
              "      <td>9723</td>\n",
              "      <td>9627</td>\n",
              "      <td>9675</td>\n",
              "    </tr>\n",
              "    <tr>\n",
              "      <th>2013-01-05</th>\n",
              "      <td>9744</td>\n",
              "      <td>9648</td>\n",
              "      <td>9696</td>\n",
              "    </tr>\n",
              "    <tr>\n",
              "      <th>2013-01-06</th>\n",
              "      <td>9766</td>\n",
              "      <td>9668</td>\n",
              "      <td>9717</td>\n",
              "    </tr>\n",
              "  </tbody>\n",
              "</table>\n",
              "</div>\n",
              "    <div class=\"colab-df-buttons\">\n",
              "\n",
              "  <div class=\"colab-df-container\">\n",
              "    <button class=\"colab-df-convert\" onclick=\"convertToInteractive('df-7e94e156-da57-4992-82ce-12e4e9e84507')\"\n",
              "            title=\"Convert this dataframe to an interactive table.\"\n",
              "            style=\"display:none;\">\n",
              "\n",
              "  <svg xmlns=\"http://www.w3.org/2000/svg\" height=\"24px\" viewBox=\"0 -960 960 960\">\n",
              "    <path d=\"M120-120v-720h720v720H120Zm60-500h600v-160H180v160Zm220 220h160v-160H400v160Zm0 220h160v-160H400v160ZM180-400h160v-160H180v160Zm440 0h160v-160H620v160ZM180-180h160v-160H180v160Zm440 0h160v-160H620v160Z\"/>\n",
              "  </svg>\n",
              "    </button>\n",
              "\n",
              "  <style>\n",
              "    .colab-df-container {\n",
              "      display:flex;\n",
              "      gap: 12px;\n",
              "    }\n",
              "\n",
              "    .colab-df-convert {\n",
              "      background-color: #E8F0FE;\n",
              "      border: none;\n",
              "      border-radius: 50%;\n",
              "      cursor: pointer;\n",
              "      display: none;\n",
              "      fill: #1967D2;\n",
              "      height: 32px;\n",
              "      padding: 0 0 0 0;\n",
              "      width: 32px;\n",
              "    }\n",
              "\n",
              "    .colab-df-convert:hover {\n",
              "      background-color: #E2EBFA;\n",
              "      box-shadow: 0px 1px 2px rgba(60, 64, 67, 0.3), 0px 1px 3px 1px rgba(60, 64, 67, 0.15);\n",
              "      fill: #174EA6;\n",
              "    }\n",
              "\n",
              "    .colab-df-buttons div {\n",
              "      margin-bottom: 4px;\n",
              "    }\n",
              "\n",
              "    [theme=dark] .colab-df-convert {\n",
              "      background-color: #3B4455;\n",
              "      fill: #D2E3FC;\n",
              "    }\n",
              "\n",
              "    [theme=dark] .colab-df-convert:hover {\n",
              "      background-color: #434B5C;\n",
              "      box-shadow: 0px 1px 3px 1px rgba(0, 0, 0, 0.15);\n",
              "      filter: drop-shadow(0px 1px 2px rgba(0, 0, 0, 0.3));\n",
              "      fill: #FFFFFF;\n",
              "    }\n",
              "  </style>\n",
              "\n",
              "    <script>\n",
              "      const buttonEl =\n",
              "        document.querySelector('#df-7e94e156-da57-4992-82ce-12e4e9e84507 button.colab-df-convert');\n",
              "      buttonEl.style.display =\n",
              "        google.colab.kernel.accessAllowed ? 'block' : 'none';\n",
              "\n",
              "      async function convertToInteractive(key) {\n",
              "        const element = document.querySelector('#df-7e94e156-da57-4992-82ce-12e4e9e84507');\n",
              "        const dataTable =\n",
              "          await google.colab.kernel.invokeFunction('convertToInteractive',\n",
              "                                                    [key], {});\n",
              "        if (!dataTable) return;\n",
              "\n",
              "        const docLinkHtml = 'Like what you see? Visit the ' +\n",
              "          '<a target=\"_blank\" href=https://colab.research.google.com/notebooks/data_table.ipynb>data table notebook</a>'\n",
              "          + ' to learn more about interactive tables.';\n",
              "        element.innerHTML = '';\n",
              "        dataTable['output_type'] = 'display_data';\n",
              "        await google.colab.output.renderOutput(dataTable, element);\n",
              "        const docLink = document.createElement('div');\n",
              "        docLink.innerHTML = docLinkHtml;\n",
              "        element.appendChild(docLink);\n",
              "      }\n",
              "    </script>\n",
              "  </div>\n",
              "\n",
              "\n",
              "<div id=\"df-13a70adb-1a64-4dd9-bd13-f7044ea518e1\">\n",
              "  <button class=\"colab-df-quickchart\" onclick=\"quickchart('df-13a70adb-1a64-4dd9-bd13-f7044ea518e1')\"\n",
              "            title=\"Suggest charts\"\n",
              "            style=\"display:none;\">\n",
              "\n",
              "<svg xmlns=\"http://www.w3.org/2000/svg\" height=\"24px\"viewBox=\"0 0 24 24\"\n",
              "     width=\"24px\">\n",
              "    <g>\n",
              "        <path d=\"M19 3H5c-1.1 0-2 .9-2 2v14c0 1.1.9 2 2 2h14c1.1 0 2-.9 2-2V5c0-1.1-.9-2-2-2zM9 17H7v-7h2v7zm4 0h-2V7h2v10zm4 0h-2v-4h2v4z\"/>\n",
              "    </g>\n",
              "</svg>\n",
              "  </button>\n",
              "\n",
              "<style>\n",
              "  .colab-df-quickchart {\n",
              "      --bg-color: #E8F0FE;\n",
              "      --fill-color: #1967D2;\n",
              "      --hover-bg-color: #E2EBFA;\n",
              "      --hover-fill-color: #174EA6;\n",
              "      --disabled-fill-color: #AAA;\n",
              "      --disabled-bg-color: #DDD;\n",
              "  }\n",
              "\n",
              "  [theme=dark] .colab-df-quickchart {\n",
              "      --bg-color: #3B4455;\n",
              "      --fill-color: #D2E3FC;\n",
              "      --hover-bg-color: #434B5C;\n",
              "      --hover-fill-color: #FFFFFF;\n",
              "      --disabled-bg-color: #3B4455;\n",
              "      --disabled-fill-color: #666;\n",
              "  }\n",
              "\n",
              "  .colab-df-quickchart {\n",
              "    background-color: var(--bg-color);\n",
              "    border: none;\n",
              "    border-radius: 50%;\n",
              "    cursor: pointer;\n",
              "    display: none;\n",
              "    fill: var(--fill-color);\n",
              "    height: 32px;\n",
              "    padding: 0;\n",
              "    width: 32px;\n",
              "  }\n",
              "\n",
              "  .colab-df-quickchart:hover {\n",
              "    background-color: var(--hover-bg-color);\n",
              "    box-shadow: 0 1px 2px rgba(60, 64, 67, 0.3), 0 1px 3px 1px rgba(60, 64, 67, 0.15);\n",
              "    fill: var(--button-hover-fill-color);\n",
              "  }\n",
              "\n",
              "  .colab-df-quickchart-complete:disabled,\n",
              "  .colab-df-quickchart-complete:disabled:hover {\n",
              "    background-color: var(--disabled-bg-color);\n",
              "    fill: var(--disabled-fill-color);\n",
              "    box-shadow: none;\n",
              "  }\n",
              "\n",
              "  .colab-df-spinner {\n",
              "    border: 2px solid var(--fill-color);\n",
              "    border-color: transparent;\n",
              "    border-bottom-color: var(--fill-color);\n",
              "    animation:\n",
              "      spin 1s steps(1) infinite;\n",
              "  }\n",
              "\n",
              "  @keyframes spin {\n",
              "    0% {\n",
              "      border-color: transparent;\n",
              "      border-bottom-color: var(--fill-color);\n",
              "      border-left-color: var(--fill-color);\n",
              "    }\n",
              "    20% {\n",
              "      border-color: transparent;\n",
              "      border-left-color: var(--fill-color);\n",
              "      border-top-color: var(--fill-color);\n",
              "    }\n",
              "    30% {\n",
              "      border-color: transparent;\n",
              "      border-left-color: var(--fill-color);\n",
              "      border-top-color: var(--fill-color);\n",
              "      border-right-color: var(--fill-color);\n",
              "    }\n",
              "    40% {\n",
              "      border-color: transparent;\n",
              "      border-right-color: var(--fill-color);\n",
              "      border-top-color: var(--fill-color);\n",
              "    }\n",
              "    60% {\n",
              "      border-color: transparent;\n",
              "      border-right-color: var(--fill-color);\n",
              "    }\n",
              "    80% {\n",
              "      border-color: transparent;\n",
              "      border-right-color: var(--fill-color);\n",
              "      border-bottom-color: var(--fill-color);\n",
              "    }\n",
              "    90% {\n",
              "      border-color: transparent;\n",
              "      border-bottom-color: var(--fill-color);\n",
              "    }\n",
              "  }\n",
              "</style>\n",
              "\n",
              "  <script>\n",
              "    async function quickchart(key) {\n",
              "      const quickchartButtonEl =\n",
              "        document.querySelector('#' + key + ' button');\n",
              "      quickchartButtonEl.disabled = true;  // To prevent multiple clicks.\n",
              "      quickchartButtonEl.classList.add('colab-df-spinner');\n",
              "      try {\n",
              "        const charts = await google.colab.kernel.invokeFunction(\n",
              "            'suggestCharts', [key], {});\n",
              "      } catch (error) {\n",
              "        console.error('Error during call to suggestCharts:', error);\n",
              "      }\n",
              "      quickchartButtonEl.classList.remove('colab-df-spinner');\n",
              "      quickchartButtonEl.classList.add('colab-df-quickchart-complete');\n",
              "    }\n",
              "    (() => {\n",
              "      let quickchartButtonEl =\n",
              "        document.querySelector('#df-13a70adb-1a64-4dd9-bd13-f7044ea518e1 button');\n",
              "      quickchartButtonEl.style.display =\n",
              "        google.colab.kernel.accessAllowed ? 'block' : 'none';\n",
              "    })();\n",
              "  </script>\n",
              "</div>\n",
              "    </div>\n",
              "  </div>\n"
            ]
          },
          "metadata": {},
          "execution_count": 7
        }
      ]
    },
    {
      "cell_type": "code",
      "source": [
        "correlation_matrix, p_value_matrix = spearmanr(df)\n",
        "\n",
        "# Menampilkan matrix korelasi\n",
        "print(\"Matrix Korelasi:\")\n",
        "print(correlation_matrix)\n"
      ],
      "metadata": {
        "colab": {
          "base_uri": "https://localhost:8080/"
        },
        "id": "6YaoxUMD6SwY",
        "outputId": "199d55b2-d483-434c-85c9-8489e002f44f"
      },
      "execution_count": null,
      "outputs": [
        {
          "output_type": "stream",
          "name": "stdout",
          "text": [
            "Matrix Korelasi:\n",
            "[[1.         0.99999986 0.99999992]\n",
            " [0.99999986 1.         0.99999995]\n",
            " [0.99999992 0.99999995 1.        ]]\n"
          ]
        }
      ]
    },
    {
      "cell_type": "code",
      "source": [
        "import seaborn as sns\n",
        "correlation_matrix = df.corr(method='spearman')\n",
        "\n",
        "# Membuat heatmap\n",
        "plt.figure(figsize=(10, 8))\n",
        "sns.heatmap(correlation_matrix, annot=True, cmap='coolwarm', fmt=\".2f\", linewidths=.5)\n",
        "plt.title('Heatmap Korelasi Spearman')\n",
        "plt.show()"
      ],
      "metadata": {
        "colab": {
          "base_uri": "https://localhost:8080/",
          "height": 570
        },
        "id": "Z7Xv_f9eWi49",
        "outputId": "079031ae-63c1-4a58-dcad-7283b1905ea1"
      },
      "execution_count": null,
      "outputs": [
        {
          "output_type": "display_data",
          "data": {
            "text/plain": [
              "<Figure size 1000x800 with 2 Axes>"
            ],
            "image/png": "[encoded data removed]"
          },
          "metadata": {}
        }
      ]
    },
    {
      "cell_type": "markdown",
      "source": [
        "Visualisasi"
      ],
      "metadata": {
        "id": "UmbZ62Xm7QL1"
      }
    },
    {
      "cell_type": "code",
      "source": [
        "import matplotlib.dates as mdates\n",
        "df['Date'] = pd.to_datetime(df['Date'])\n",
        "\n",
        "# Memilih kolom 'Date' dan 'KursBeli', dan mengelompokkannya berdasarkan tanggal sambil menjumlahkannya\n",
        "df_TotalDay = df[['Date', 'KursBeli']].copy(deep=True)\n",
        "df_TotalDay = df_TotalDay.groupby('Date').sum()\n",
        "\n",
        "# Membuat plot\n",
        "fig, ax = plt.subplots(figsize=(15, 5))\n",
        "ax.plot(df_TotalDay.index, df_TotalDay['KursBeli'], label='Kurs Beli')\n",
        "\n",
        "# Menetapkan format tanggal pada sumbu x\n",
        "ax.xaxis.set_major_locator(mdates.YearLocator())\n",
        "ax.xaxis.set_major_formatter(mdates.DateFormatter('%Y'))\n",
        "\n",
        "plt.title('Grafik Kurs Beli per Data per Tahun')\n",
        "plt.xlabel('Tanggal')\n",
        "plt.ylabel('Kurs Beli')\n",
        "plt.legend()\n",
        "plt.grid(True)\n",
        "plt.tight_layout()\n",
        "plt.show()"
      ],
      "metadata": {
        "colab": {
          "base_uri": "https://localhost:8080/",
          "height": 598
        },
        "id": "IaMW4yap6VJv",
        "outputId": "408ac2a5-6c5c-4696-e026-6b5246681413"
      },
      "execution_count": null,
      "outputs": [
        {
          "output_type": "error",
          "ename": "KeyError",
          "evalue": "ignored",
          "traceback": [
            "\u001b[0;31m---------------------------------------------------------------------------\u001b[0m",
            "\u001b[0;31mKeyError\u001b[0m                                  Traceback (most recent call last)",
            "\u001b[0;32m/usr/local/lib/python3.10/dist-packages/pandas/core/indexes/base.py\u001b[0m in \u001b[0;36mget_loc\u001b[0;34m(self, key, method, tolerance)\u001b[0m\n\u001b[1;32m   3801\u001b[0m             \u001b[0;32mtry\u001b[0m\u001b[0;34m:\u001b[0m\u001b[0;34m\u001b[0m\u001b[0;34m\u001b[0m\u001b[0m\n\u001b[0;32m-> 3802\u001b[0;31m                 \u001b[0;32mreturn\u001b[0m \u001b[0mself\u001b[0m\u001b[0;34m.\u001b[0m\u001b[0m_engine\u001b[0m\u001b[0;34m.\u001b[0m\u001b[0mget_loc\u001b[0m\u001b[0;34m(\u001b[0m\u001b[0mcasted_key\u001b[0m\u001b[0;34m)\u001b[0m\u001b[0;34m\u001b[0m\u001b[0;34m\u001b[0m\u001b[0m\n\u001b[0m\u001b[1;32m   3803\u001b[0m             \u001b[0;32mexcept\u001b[0m \u001b[0mKeyError\u001b[0m \u001b[0;32mas\u001b[0m \u001b[0merr\u001b[0m\u001b[0;34m:\u001b[0m\u001b[0;34m\u001b[0m\u001b[0;34m\u001b[0m\u001b[0m\n",
            "\u001b[0;32m/usr/local/lib/python3.10/dist-packages/pandas/_libs/index.pyx\u001b[0m in \u001b[0;36mpandas._libs.index.IndexEngine.get_loc\u001b[0;34m()\u001b[0m\n",
            "\u001b[0;32m/usr/local/lib/python3.10/dist-packages/pandas/_libs/index.pyx\u001b[0m in \u001b[0;36mpandas._libs.index.IndexEngine.get_loc\u001b[0;34m()\u001b[0m\n",
            "\u001b[0;32mpandas/_libs/hashtable_class_helper.pxi\u001b[0m in \u001b[0;36mpandas._libs.hashtable.PyObjectHashTable.get_item\u001b[0;34m()\u001b[0m\n",
            "\u001b[0;32mpandas/_libs/hashtable_class_helper.pxi\u001b[0m in \u001b[0;36mpandas._libs.hashtable.PyObjectHashTable.get_item\u001b[0;34m()\u001b[0m\n",
            "\u001b[0;31mKeyError\u001b[0m: 'Date'",
            "\nThe above exception was the direct cause of the following exception:\n",
            "\u001b[0;31mKeyError\u001b[0m                                  Traceback (most recent call last)",
            "\u001b[0;32m<ipython-input-10-71d084085920>\u001b[0m in \u001b[0;36m<cell line: 2>\u001b[0;34m()\u001b[0m\n\u001b[1;32m      1\u001b[0m \u001b[0;32mimport\u001b[0m \u001b[0mmatplotlib\u001b[0m\u001b[0;34m.\u001b[0m\u001b[0mdates\u001b[0m \u001b[0;32mas\u001b[0m \u001b[0mmdates\u001b[0m\u001b[0;34m\u001b[0m\u001b[0;34m\u001b[0m\u001b[0m\n\u001b[0;32m----> 2\u001b[0;31m \u001b[0mdf\u001b[0m\u001b[0;34m[\u001b[0m\u001b[0;34m'Date'\u001b[0m\u001b[0;34m]\u001b[0m \u001b[0;34m=\u001b[0m \u001b[0mpd\u001b[0m\u001b[0;34m.\u001b[0m\u001b[0mto_datetime\u001b[0m\u001b[0;34m(\u001b[0m\u001b[0mdf\u001b[0m\u001b[0;34m[\u001b[0m\u001b[0;34m'Date'\u001b[0m\u001b[0;34m]\u001b[0m\u001b[0;34m)\u001b[0m\u001b[0;34m\u001b[0m\u001b[0;34m\u001b[0m\u001b[0m\n\u001b[0m\u001b[1;32m      3\u001b[0m \u001b[0;34m\u001b[0m\u001b[0m\n\u001b[1;32m      4\u001b[0m \u001b[0;31m# Memilih kolom 'Date' dan 'KursBeli', dan mengelompokkannya berdasarkan tanggal sambil menjumlahkannya\u001b[0m\u001b[0;34m\u001b[0m\u001b[0;34m\u001b[0m\u001b[0m\n\u001b[1;32m      5\u001b[0m \u001b[0mdf_TotalDay\u001b[0m \u001b[0;34m=\u001b[0m \u001b[0mdf\u001b[0m\u001b[0;34m[\u001b[0m\u001b[0;34m[\u001b[0m\u001b[0;34m'Date'\u001b[0m\u001b[0;34m,\u001b[0m \u001b[0;34m'KursBeli'\u001b[0m\u001b[0;34m]\u001b[0m\u001b[0;34m]\u001b[0m\u001b[0;34m.\u001b[0m\u001b[0mcopy\u001b[0m\u001b[0;34m(\u001b[0m\u001b[0mdeep\u001b[0m\u001b[0;34m=\u001b[0m\u001b[0;32mTrue\u001b[0m\u001b[0;34m)\u001b[0m\u001b[0;34m\u001b[0m\u001b[0;34m\u001b[0m\u001b[0m\n",
            "\u001b[0;32m/usr/local/lib/python3.10/dist-packages/pandas/core/frame.py\u001b[0m in \u001b[0;36m__getitem__\u001b[0;34m(self, key)\u001b[0m\n\u001b[1;32m   3805\u001b[0m             \u001b[0;32mif\u001b[0m \u001b[0mself\u001b[0m\u001b[0;34m.\u001b[0m\u001b[0mcolumns\u001b[0m\u001b[0;34m.\u001b[0m\u001b[0mnlevels\u001b[0m \u001b[0;34m>\u001b[0m \u001b[0;36m1\u001b[0m\u001b[0;34m:\u001b[0m\u001b[0;34m\u001b[0m\u001b[0;34m\u001b[0m\u001b[0m\n\u001b[1;32m   3806\u001b[0m                 \u001b[0;32mreturn\u001b[0m \u001b[0mself\u001b[0m\u001b[0;34m.\u001b[0m\u001b[0m_getitem_multilevel\u001b[0m\u001b[0;34m(\u001b[0m\u001b[0mkey\u001b[0m\u001b[0;34m)\u001b[0m\u001b[0;34m\u001b[0m\u001b[0;34m\u001b[0m\u001b[0m\n\u001b[0;32m-> 3807\u001b[0;31m             \u001b[0mindexer\u001b[0m \u001b[0;34m=\u001b[0m \u001b[0mself\u001b[0m\u001b[0;34m.\u001b[0m\u001b[0mcolumns\u001b[0m\u001b[0;34m.\u001b[0m\u001b[0mget_loc\u001b[0m\u001b[0;34m(\u001b[0m\u001b[0mkey\u001b[0m\u001b[0;34m)\u001b[0m\u001b[0;34m\u001b[0m\u001b[0;34m\u001b[0m\u001b[0m\n\u001b[0m\u001b[1;32m   3808\u001b[0m             \u001b[0;32mif\u001b[0m \u001b[0mis_integer\u001b[0m\u001b[0;34m(\u001b[0m\u001b[0mindexer\u001b[0m\u001b[0;34m)\u001b[0m\u001b[0;34m:\u001b[0m\u001b[0;34m\u001b[0m\u001b[0;34m\u001b[0m\u001b[0m\n\u001b[1;32m   3809\u001b[0m                 \u001b[0mindexer\u001b[0m \u001b[0;34m=\u001b[0m \u001b[0;34m[\u001b[0m\u001b[0mindexer\u001b[0m\u001b[0;34m]\u001b[0m\u001b[0;34m\u001b[0m\u001b[0;34m\u001b[0m\u001b[0m\n",
            "\u001b[0;32m/usr/local/lib/python3.10/dist-packages/pandas/core/indexes/base.py\u001b[0m in \u001b[0;36mget_loc\u001b[0;34m(self, key, method, tolerance)\u001b[0m\n\u001b[1;32m   3802\u001b[0m                 \u001b[0;32mreturn\u001b[0m \u001b[0mself\u001b[0m\u001b[0;34m.\u001b[0m\u001b[0m_engine\u001b[0m\u001b[0;34m.\u001b[0m\u001b[0mget_loc\u001b[0m\u001b[0;34m(\u001b[0m\u001b[0mcasted_key\u001b[0m\u001b[0;34m)\u001b[0m\u001b[0;34m\u001b[0m\u001b[0;34m\u001b[0m\u001b[0m\n\u001b[1;32m   3803\u001b[0m             \u001b[0;32mexcept\u001b[0m \u001b[0mKeyError\u001b[0m \u001b[0;32mas\u001b[0m \u001b[0merr\u001b[0m\u001b[0;34m:\u001b[0m\u001b[0;34m\u001b[0m\u001b[0;34m\u001b[0m\u001b[0m\n\u001b[0;32m-> 3804\u001b[0;31m                 \u001b[0;32mraise\u001b[0m \u001b[0mKeyError\u001b[0m\u001b[0;34m(\u001b[0m\u001b[0mkey\u001b[0m\u001b[0;34m)\u001b[0m \u001b[0;32mfrom\u001b[0m \u001b[0merr\u001b[0m\u001b[0;34m\u001b[0m\u001b[0;34m\u001b[0m\u001b[0m\n\u001b[0m\u001b[1;32m   3805\u001b[0m             \u001b[0;32mexcept\u001b[0m \u001b[0mTypeError\u001b[0m\u001b[0;34m:\u001b[0m\u001b[0;34m\u001b[0m\u001b[0;34m\u001b[0m\u001b[0m\n\u001b[1;32m   3806\u001b[0m                 \u001b[0;31m# If we have a listlike key, _check_indexing_error will raise\u001b[0m\u001b[0;34m\u001b[0m\u001b[0;34m\u001b[0m\u001b[0m\n",
            "\u001b[0;31mKeyError\u001b[0m: 'Date'"
          ]
        }
      ]
    },
    {
      "cell_type": "code",
      "source": [
        "import matplotlib.dates as mdates\n",
        "df['Date'] = pd.to_datetime(df['Date'])\n",
        "\n",
        "# Memilih kolom 'Date' dan 'KursBeli', dan mengelompokkannya berdasarkan tanggal sambil menjumlahkannya\n",
        "df_TotalDay = df[['Date', 'KursTgh']].copy(deep=True)\n",
        "df_TotalDay = df_TotalDay.groupby('Date').sum()\n",
        "\n",
        "# Membuat plot\n",
        "fig, ax = plt.subplots(figsize=(15, 5))\n",
        "ax.plot(df_TotalDay.index, df_TotalDay['KursTgh'], label='Kurs Tengah')\n",
        "\n",
        "# Menetapkan format tanggal pada sumbu x\n",
        "ax.xaxis.set_major_locator(mdates.YearLocator())\n",
        "ax.xaxis.set_major_formatter(mdates.DateFormatter('%Y'))\n",
        "\n",
        "plt.title('Grafik Kurs Tengah per Data per Tahun')\n",
        "plt.xlabel('Tanggal')\n",
        "plt.ylabel('Kurs Tengah')\n",
        "plt.legend()\n",
        "plt.grid(True)\n",
        "plt.tight_layout()\n",
        "plt.show()"
      ],
      "metadata": {
        "id": "0bTYZ2WP64Cp"
      },
      "execution_count": null,
      "outputs": []
    },
    {
      "cell_type": "markdown",
      "source": [
        "\n",
        "\n",
        "```\n",
        "# Ini diformat sebagai kode\n",
        "```\n",
        "\n",
        "# Regresi Linear 1 fitur\n"
      ],
      "metadata": {
        "id": "0FdI1Q1p9Omh"
      }
    },
    {
      "cell_type": "code",
      "source": [
        "X = np.array(df['KursBeli'])\n",
        "X.shape"
      ],
      "metadata": {
        "colab": {
          "base_uri": "https://localhost:8080/"
        },
        "id": "54dud_0b-GEh",
        "outputId": "05629e87-f46d-4409-e590-b622e8293e3c"
      },
      "execution_count": null,
      "outputs": [
        {
          "output_type": "execute_result",
          "data": {
            "text/plain": [
              "(3894,)"
            ]
          },
          "metadata": {},
          "execution_count": 11
        }
      ]
    },
    {
      "cell_type": "code",
      "source": [
        "y = np.array(df['KursTgh'])\n",
        "y = y.reshape(-1,1)\n",
        "y.shape"
      ],
      "metadata": {
        "colab": {
          "base_uri": "https://localhost:8080/"
        },
        "id": "ZowRvtxL-F_3",
        "outputId": "550d33fb-76d0-412f-d504-9caaaedbedc8"
      },
      "execution_count": null,
      "outputs": [
        {
          "output_type": "execute_result",
          "data": {
            "text/plain": [
              "(3894, 1)"
            ]
          },
          "metadata": {},
          "execution_count": 12
        }
      ]
    },
    {
      "cell_type": "code",
      "source": [
        "n=10\n",
        "actual_10days_array = np.array(df['KursTgh'])[-n:]\n",
        "print(actual_10days_array)"
      ],
      "metadata": {
        "colab": {
          "base_uri": "https://localhost:8080/"
        },
        "id": "u_i9qJMD-F6Z",
        "outputId": "0ed2f6e3-514f-45bf-8c93-63006d71e63d"
      },
      "execution_count": null,
      "outputs": [
        {
          "output_type": "stream",
          "name": "stdout",
          "text": [
            "[15329 15326 15319 15253 15268 15282 15297 15294 15263 15239]\n"
          ]
        }
      ]
    },
    {
      "cell_type": "code",
      "source": [
        "scalerX = MinMaxScaler()\n",
        "X = X.reshape(-1,1)\n",
        "scalerX.fit(X)\n",
        "X = scalerX.transform(X)"
      ],
      "metadata": {
        "id": "_GmBmisg-F2F"
      },
      "execution_count": null,
      "outputs": []
    },
    {
      "cell_type": "code",
      "source": [
        "scalery = MinMaxScaler()\n",
        "scalery.fit(y)\n",
        "y = scalery.transform(y)"
      ],
      "metadata": {
        "id": "VOqauOIk-FtO"
      },
      "execution_count": null,
      "outputs": []
    },
    {
      "cell_type": "code",
      "source": [
        "from sklearn.model_selection import train_test_split\n",
        "X_train, X_test, y_train, y_test = train_test_split(X,y, test_size = 0.30, random_state=42)"
      ],
      "metadata": {
        "id": "C_BpwUT49Pgn"
      },
      "execution_count": null,
      "outputs": []
    },
    {
      "cell_type": "code",
      "source": [
        "from sklearn.linear_model import LinearRegression\n",
        "regressor = LinearRegression()\n",
        "regressor.fit(X_train,np.ravel(y_train))"
      ],
      "metadata": {
        "colab": {
          "base_uri": "https://localhost:8080/",
          "height": 74
        },
        "id": "pSvFR9UV9TR4",
        "outputId": "6a14b541-c00c-480c-e68a-c6c970ca7b83"
      },
      "execution_count": null,
      "outputs": [
        {
          "output_type": "execute_result",
          "data": {
            "text/plain": [
              "LinearRegression()"
            ],
            "text/html": [
              "<style>#sk-container-id-1 {color: black;background-color: white;}#sk-container-id-1 pre{padding: 0;}#sk-container-id-1 div.sk-toggleable {background-color: white;}#sk-container-id-1 label.sk-toggleable__label {cursor: pointer;display: block;width: 100%;margin-bottom: 0;padding: 0.3em;box-sizing: border-box;text-align: center;}#sk-container-id-1 label.sk-toggleable__label-arrow:before {content: \"▸\";float: left;margin-right: 0.25em;color: #696969;}#sk-container-id-1 label.sk-toggleable__label-arrow:hover:before {color: black;}#sk-container-id-1 div.sk-estimator:hover label.sk-toggleable__label-arrow:before {color: black;}#sk-container-id-1 div.sk-toggleable__content {max-height: 0;max-width: 0;overflow: hidden;text-align: left;background-color: #f0f8ff;}#sk-container-id-1 div.sk-toggleable__content pre {margin: 0.2em;color: black;border-radius: 0.25em;background-color: #f0f8ff;}#sk-container-id-1 input.sk-toggleable__control:checked~div.sk-toggleable__content {max-height: 200px;max-width: 100%;overflow: auto;}#sk-container-id-1 input.sk-toggleable__control:checked~label.sk-toggleable__label-arrow:before {content: \"▾\";}#sk-container-id-1 div.sk-estimator input.sk-toggleable__control:checked~label.sk-toggleable__label {background-color: #d4ebff;}#sk-container-id-1 div.sk-label input.sk-toggleable__control:checked~label.sk-toggleable__label {background-color: #d4ebff;}#sk-container-id-1 input.sk-hidden--visually {border: 0;clip: rect(1px 1px 1px 1px);clip: rect(1px, 1px, 1px, 1px);height: 1px;margin: -1px;overflow: hidden;padding: 0;position: absolute;width: 1px;}#sk-container-id-1 div.sk-estimator {font-family: monospace;background-color: #f0f8ff;border: 1px dotted black;border-radius: 0.25em;box-sizing: border-box;margin-bottom: 0.5em;}#sk-container-id-1 div.sk-estimator:hover {background-color: #d4ebff;}#sk-container-id-1 div.sk-parallel-item::after {content: \"\";width: 100%;border-bottom: 1px solid gray;flex-grow: 1;}#sk-container-id-1 div.sk-label:hover label.sk-toggleable__label {background-color: #d4ebff;}#sk-container-id-1 div.sk-serial::before {content: \"\";position: absolute;border-left: 1px solid gray;box-sizing: border-box;top: 0;bottom: 0;left: 50%;z-index: 0;}#sk-container-id-1 div.sk-serial {display: flex;flex-direction: column;align-items: center;background-color: white;padding-right: 0.2em;padding-left: 0.2em;position: relative;}#sk-container-id-1 div.sk-item {position: relative;z-index: 1;}#sk-container-id-1 div.sk-parallel {display: flex;align-items: stretch;justify-content: center;background-color: white;position: relative;}#sk-container-id-1 div.sk-item::before, #sk-container-id-1 div.sk-parallel-item::before {content: \"\";position: absolute;border-left: 1px solid gray;box-sizing: border-box;top: 0;bottom: 0;left: 50%;z-index: -1;}#sk-container-id-1 div.sk-parallel-item {display: flex;flex-direction: column;z-index: 1;position: relative;background-color: white;}#sk-container-id-1 div.sk-parallel-item:first-child::after {align-self: flex-end;width: 50%;}#sk-container-id-1 div.sk-parallel-item:last-child::after {align-self: flex-start;width: 50%;}#sk-container-id-1 div.sk-parallel-item:only-child::after {width: 0;}#sk-container-id-1 div.sk-dashed-wrapped {border: 1px dashed gray;margin: 0 0.4em 0.5em 0.4em;box-sizing: border-box;padding-bottom: 0.4em;background-color: white;}#sk-container-id-1 div.sk-label label {font-family: monospace;font-weight: bold;display: inline-block;line-height: 1.2em;}#sk-container-id-1 div.sk-label-container {text-align: center;}#sk-container-id-1 div.sk-container {/* jupyter's `normalize.less` sets `[hidden] { display: none; }` but bootstrap.min.css set `[hidden] { display: none !important; }` so we also need the `!important` here to be able to override the default hidden behavior on the sphinx rendered scikit-learn.org. See: https://github.com/scikit-learn/scikit-learn/issues/21755 */display: inline-block !important;position: relative;}#sk-container-id-1 div.sk-text-repr-fallback {display: none;}</style><div id=\"sk-container-id-1\" class=\"sk-top-container\"><div class=\"sk-text-repr-fallback\"><pre>LinearRegression()</pre><b>In a Jupyter environment, please rerun this cell to show the HTML representation or trust the notebook. <br />On GitHub, the HTML representation is unable to render, please try loading this page with nbviewer.org.</b></div><div class=\"sk-container\" hidden><div class=\"sk-item\"><div class=\"sk-estimator sk-toggleable\"><input class=\"sk-toggleable__control sk-hidden--visually\" id=\"sk-estimator-id-1\" type=\"checkbox\" checked><label for=\"sk-estimator-id-1\" class=\"sk-toggleable__label sk-toggleable__label-arrow\">LinearRegression</label><div class=\"sk-toggleable__content\"><pre>LinearRegression()</pre></div></div></div></div></div>"
            ]
          },
          "metadata": {},
          "execution_count": 17
        }
      ]
    },
    {
      "cell_type": "code",
      "source": [
        "y_pred_test = regressor.predict(X_test)\n",
        "y_pred_train = regressor.predict(X_train)"
      ],
      "metadata": {
        "id": "GqGg_Qfw9Uu0"
      },
      "execution_count": null,
      "outputs": []
    },
    {
      "cell_type": "code",
      "source": [
        "from sklearn.metrics import mean_absolute_error\n",
        "print('MSE Train{0:.5f}'.format(mean_absolute_error(y_train,y_pred_train)))\n",
        "from sklearn.metrics import mean_squared_error\n",
        "print('MSE Train{0:.5f}'.format(mean_absolute_error(y_test,y_pred_test)))"
      ],
      "metadata": {
        "colab": {
          "base_uri": "https://localhost:8080/"
        },
        "id": "F-OOL9eH9WGe",
        "outputId": "203d9e35-8111-4d61-b8dc-2ea2ae875d54"
      },
      "execution_count": null,
      "outputs": [
        {
          "output_type": "stream",
          "name": "stdout",
          "text": [
            "MSE Train0.00004\n",
            "MSE Train0.00004\n"
          ]
        }
      ]
    },
    {
      "cell_type": "code",
      "source": [
        "from sklearn.metrics import r2_score\n",
        "print('R2{0:.5f}'.format(r2_score(y_train,y_pred_train)))\n",
        "from sklearn.metrics import r2_score\n",
        "print('R2{0:.5f}'.format(r2_score(y_test,y_pred_test)))"
      ],
      "metadata": {
        "colab": {
          "base_uri": "https://localhost:8080/"
        },
        "id": "PSrMRVaY9Xc_",
        "outputId": "3222d5a8-8fa6-4ce0-c966-9f0dae28a599"
      },
      "execution_count": null,
      "outputs": [
        {
          "output_type": "stream",
          "name": "stdout",
          "text": [
            "R21.00000\n",
            "R21.00000\n"
          ]
        }
      ]
    },
    {
      "cell_type": "code",
      "source": [
        "# Hitung MSE (Mean Squared Error)\n",
        "mse = mean_squared_error(y_train,y_pred_train)\n",
        "\n",
        "# Hitung RMSE (Root Mean Squared Error)\n",
        "rmse = np.sqrt(mse)\n",
        "print(rmse)"
      ],
      "metadata": {
        "colab": {
          "base_uri": "https://localhost:8080/"
        },
        "id": "_llpdqsH9aI8",
        "outputId": "ae36e9c4-d9f7-4cc8-93a6-62baa3205789"
      },
      "execution_count": null,
      "outputs": [
        {
          "output_type": "stream",
          "name": "stdout",
          "text": [
            "4.3009092905730995e-05\n"
          ]
        }
      ]
    },
    {
      "cell_type": "code",
      "source": [
        "y_pred_test2d = y_pred_test.reshape(-1,1)\n",
        "y_test2d = y_test.reshape(-1,1)"
      ],
      "metadata": {
        "id": "2jLU8Pds9jVJ"
      },
      "execution_count": null,
      "outputs": []
    },
    {
      "cell_type": "code",
      "source": [
        "nilai_prediksitest = scalerX.inverse_transform(y_pred_test2d)\n",
        "nilai_test = scalerX.inverse_transform(y_test2d)"
      ],
      "metadata": {
        "id": "hsS1yRiS9qRO"
      },
      "execution_count": null,
      "outputs": []
    },
    {
      "cell_type": "code",
      "source": [
        "y_train2d = y_train.reshape(-1,1)\n",
        "nilai_train = scalerX.inverse_transform(y_train2d)"
      ],
      "metadata": {
        "id": "LXPXDeiy9rI5"
      },
      "execution_count": null,
      "outputs": []
    },
    {
      "cell_type": "code",
      "source": [
        "datanew = actual_10days_array.reshape(-1,1)"
      ],
      "metadata": {
        "id": "RV-Ub8Jd9smX"
      },
      "execution_count": null,
      "outputs": []
    },
    {
      "cell_type": "code",
      "source": [
        "sc_Actualarray= MinMaxScaler()\n",
        "Actual10_scale = sc_Actualarray.fit_transform(datanew)\n",
        "print(Actual10_scale)"
      ],
      "metadata": {
        "colab": {
          "base_uri": "https://localhost:8080/"
        },
        "id": "L6AB52xo9uh2",
        "outputId": "d621430b-69c6-436e-bcb2-5649688a4c7c"
      },
      "execution_count": null,
      "outputs": [
        {
          "output_type": "stream",
          "name": "stdout",
          "text": [
            "[[1.        ]\n",
            " [0.96666667]\n",
            " [0.88888889]\n",
            " [0.15555556]\n",
            " [0.32222222]\n",
            " [0.47777778]\n",
            " [0.64444444]\n",
            " [0.61111111]\n",
            " [0.26666667]\n",
            " [0.        ]]\n"
          ]
        }
      ]
    },
    {
      "cell_type": "code",
      "source": [
        "prediction10d = regressor.predict(Actual10_scale)\n",
        "prediction10d = prediction10d.reshape(-1,1)"
      ],
      "metadata": {
        "id": "YRjv-uLT9vno"
      },
      "execution_count": null,
      "outputs": []
    },
    {
      "cell_type": "code",
      "source": [
        "nilai_baru = scalerX.inverse_transform(prediction10d)"
      ],
      "metadata": {
        "id": "1RREzDMd9xd7"
      },
      "execution_count": null,
      "outputs": []
    },
    {
      "cell_type": "code",
      "source": [
        "print(nilai_baru)"
      ],
      "metadata": {
        "colab": {
          "base_uri": "https://localhost:8080/"
        },
        "id": "3vKxL0BX9yuT",
        "outputId": "523495b6-d020-4441-c25b-f8e72b9282ad"
      },
      "execution_count": null,
      "outputs": [
        {
          "output_type": "stream",
          "name": "stdout",
          "text": [
            "[[16656.76371916]\n",
            " [16421.07951566]\n",
            " [15871.14970749]\n",
            " [10686.09723049]\n",
            " [11864.51824799]\n",
            " [12964.37786432]\n",
            " [14142.79888182]\n",
            " [13907.11467832]\n",
            " [11471.71124216]\n",
            " [ 9586.23761416]]\n"
          ]
        }
      ]
    },
    {
      "cell_type": "code",
      "source": [
        "print(\"Model slope:    \", regressor.coef_[0])\n",
        "print(\"Model intercept:\", regressor.intercept_)"
      ],
      "metadata": {
        "colab": {
          "base_uri": "https://localhost:8080/"
        },
        "id": "ti31A7FSBDsI",
        "outputId": "32c3d0d4-e603-41db-ec03-d5301fca739c"
      },
      "execution_count": null,
      "outputs": [
        {
          "output_type": "stream",
          "name": "stdout",
          "text": [
            "Model slope:     0.9999329804833115\n",
            "Model intercept: 3.360403875229956e-05\n"
          ]
        }
      ]
    },
    {
      "cell_type": "markdown",
      "source": [
        "# Regresi lInear 2 fitur"
      ],
      "metadata": {
        "id": "bQ9mPcGVAf3Q"
      }
    },
    {
      "cell_type": "code",
      "source": [
        "X=np.array(df[['KursJual','KursBeli']])\n",
        "X.shape"
      ],
      "metadata": {
        "colab": {
          "base_uri": "https://localhost:8080/"
        },
        "id": "Xx8APBsw9-Rd",
        "outputId": "0e0d74d1-15b0-4489-99bf-95c415f90184"
      },
      "execution_count": null,
      "outputs": [
        {
          "output_type": "execute_result",
          "data": {
            "text/plain": [
              "(3894, 2)"
            ]
          },
          "metadata": {},
          "execution_count": 31
        }
      ]
    },
    {
      "cell_type": "code",
      "source": [
        "y = np.array(df['KursTgh'])\n",
        "y = y.reshape(-1,1)\n",
        "y.shape"
      ],
      "metadata": {
        "colab": {
          "base_uri": "https://localhost:8080/"
        },
        "id": "pwN5mOpg-kiG",
        "outputId": "a07e608a-74f1-4007-e076-c30e65ab3c8b"
      },
      "execution_count": null,
      "outputs": [
        {
          "output_type": "execute_result",
          "data": {
            "text/plain": [
              "(3894, 1)"
            ]
          },
          "metadata": {},
          "execution_count": 32
        }
      ]
    },
    {
      "cell_type": "code",
      "source": [
        "n=7\n",
        "actual_10days_array = np.array(df['KursJual'])[-n:]\n",
        "print(actual_10days_array)"
      ],
      "metadata": {
        "colab": {
          "base_uri": "https://localhost:8080/"
        },
        "id": "raO1D0Ta-l4g",
        "outputId": "1ec9a6a1-e31d-4499-e13b-56d1b3d80953"
      },
      "execution_count": null,
      "outputs": [
        {
          "output_type": "stream",
          "name": "stdout",
          "text": [
            "[15329 15344 15358 15373 15370 15339 15315]\n"
          ]
        }
      ]
    },
    {
      "cell_type": "code",
      "source": [
        "actual_11days_array = np.array(df['KursBeli'])[-n:]\n",
        "print(actual_10days_array)"
      ],
      "metadata": {
        "colab": {
          "base_uri": "https://localhost:8080/"
        },
        "id": "zkP4sxnb_DBF",
        "outputId": "fd4c7818-8872-44d8-9c28-0ca322df0e92"
      },
      "execution_count": null,
      "outputs": [
        {
          "output_type": "stream",
          "name": "stdout",
          "text": [
            "[15329 15344 15358 15373 15370 15339 15315]\n"
          ]
        }
      ]
    },
    {
      "cell_type": "code",
      "source": [
        "scalerX = MinMaxScaler()\n",
        "scalerX.fit(X)\n",
        "X = scalerX.transform(X)"
      ],
      "metadata": {
        "id": "SmFhEVRh-qLc"
      },
      "execution_count": null,
      "outputs": []
    },
    {
      "cell_type": "code",
      "source": [
        "scalery = MinMaxScaler()\n",
        "scalery.fit(y)\n",
        "y = scalery.transform(y)"
      ],
      "metadata": {
        "id": "YWB6WIoO-s80"
      },
      "execution_count": null,
      "outputs": []
    },
    {
      "cell_type": "code",
      "source": [
        "from sklearn.model_selection import train_test_split\n",
        "X_train, X_test, y_train, y_test = train_test_split(X,y, test_size = 0.30, random_state=42)"
      ],
      "metadata": {
        "id": "xS7AKs2N-uBm"
      },
      "execution_count": null,
      "outputs": []
    },
    {
      "cell_type": "code",
      "source": [
        "X_train_scaled = scalerX.fit_transform(X_train)\n",
        "X_test_scaled = scalerX.transform(X_test)"
      ],
      "metadata": {
        "id": "14rM77PE-wWG"
      },
      "execution_count": null,
      "outputs": []
    },
    {
      "cell_type": "code",
      "source": [
        "from sklearn.linear_model import LinearRegression\n",
        "regressor = LinearRegression(fit_intercept=True)\n",
        "regressor.fit(X_train_scaled, y_train)"
      ],
      "metadata": {
        "colab": {
          "base_uri": "https://localhost:8080/",
          "height": 74
        },
        "id": "KaAoP03V-x0N",
        "outputId": "53866f21-0658-43c3-ba8b-10892d3172a3"
      },
      "execution_count": null,
      "outputs": [
        {
          "output_type": "execute_result",
          "data": {
            "text/plain": [
              "LinearRegression()"
            ],
            "text/html": [
              "<style>#sk-container-id-2 {color: black;background-color: white;}#sk-container-id-2 pre{padding: 0;}#sk-container-id-2 div.sk-toggleable {background-color: white;}#sk-container-id-2 label.sk-toggleable__label {cursor: pointer;display: block;width: 100%;margin-bottom: 0;padding: 0.3em;box-sizing: border-box;text-align: center;}#sk-container-id-2 label.sk-toggleable__label-arrow:before {content: \"▸\";float: left;margin-right: 0.25em;color: #696969;}#sk-container-id-2 label.sk-toggleable__label-arrow:hover:before {color: black;}#sk-container-id-2 div.sk-estimator:hover label.sk-toggleable__label-arrow:before {color: black;}#sk-container-id-2 div.sk-toggleable__content {max-height: 0;max-width: 0;overflow: hidden;text-align: left;background-color: #f0f8ff;}#sk-container-id-2 div.sk-toggleable__content pre {margin: 0.2em;color: black;border-radius: 0.25em;background-color: #f0f8ff;}#sk-container-id-2 input.sk-toggleable__control:checked~div.sk-toggleable__content {max-height: 200px;max-width: 100%;overflow: auto;}#sk-container-id-2 input.sk-toggleable__control:checked~label.sk-toggleable__label-arrow:before {content: \"▾\";}#sk-container-id-2 div.sk-estimator input.sk-toggleable__control:checked~label.sk-toggleable__label {background-color: #d4ebff;}#sk-container-id-2 div.sk-label input.sk-toggleable__control:checked~label.sk-toggleable__label {background-color: #d4ebff;}#sk-container-id-2 input.sk-hidden--visually {border: 0;clip: rect(1px 1px 1px 1px);clip: rect(1px, 1px, 1px, 1px);height: 1px;margin: -1px;overflow: hidden;padding: 0;position: absolute;width: 1px;}#sk-container-id-2 div.sk-estimator {font-family: monospace;background-color: #f0f8ff;border: 1px dotted black;border-radius: 0.25em;box-sizing: border-box;margin-bottom: 0.5em;}#sk-container-id-2 div.sk-estimator:hover {background-color: #d4ebff;}#sk-container-id-2 div.sk-parallel-item::after {content: \"\";width: 100%;border-bottom: 1px solid gray;flex-grow: 1;}#sk-container-id-2 div.sk-label:hover label.sk-toggleable__label {background-color: #d4ebff;}#sk-container-id-2 div.sk-serial::before {content: \"\";position: absolute;border-left: 1px solid gray;box-sizing: border-box;top: 0;bottom: 0;left: 50%;z-index: 0;}#sk-container-id-2 div.sk-serial {display: flex;flex-direction: column;align-items: center;background-color: white;padding-right: 0.2em;padding-left: 0.2em;position: relative;}#sk-container-id-2 div.sk-item {position: relative;z-index: 1;}#sk-container-id-2 div.sk-parallel {display: flex;align-items: stretch;justify-content: center;background-color: white;position: relative;}#sk-container-id-2 div.sk-item::before, #sk-container-id-2 div.sk-parallel-item::before {content: \"\";position: absolute;border-left: 1px solid gray;box-sizing: border-box;top: 0;bottom: 0;left: 50%;z-index: -1;}#sk-container-id-2 div.sk-parallel-item {display: flex;flex-direction: column;z-index: 1;position: relative;background-color: white;}#sk-container-id-2 div.sk-parallel-item:first-child::after {align-self: flex-end;width: 50%;}#sk-container-id-2 div.sk-parallel-item:last-child::after {align-self: flex-start;width: 50%;}#sk-container-id-2 div.sk-parallel-item:only-child::after {width: 0;}#sk-container-id-2 div.sk-dashed-wrapped {border: 1px dashed gray;margin: 0 0.4em 0.5em 0.4em;box-sizing: border-box;padding-bottom: 0.4em;background-color: white;}#sk-container-id-2 div.sk-label label {font-family: monospace;font-weight: bold;display: inline-block;line-height: 1.2em;}#sk-container-id-2 div.sk-label-container {text-align: center;}#sk-container-id-2 div.sk-container {/* jupyter's `normalize.less` sets `[hidden] { display: none; }` but bootstrap.min.css set `[hidden] { display: none !important; }` so we also need the `!important` here to be able to override the default hidden behavior on the sphinx rendered scikit-learn.org. See: https://github.com/scikit-learn/scikit-learn/issues/21755 */display: inline-block !important;position: relative;}#sk-container-id-2 div.sk-text-repr-fallback {display: none;}</style><div id=\"sk-container-id-2\" class=\"sk-top-container\"><div class=\"sk-text-repr-fallback\"><pre>LinearRegression()</pre><b>In a Jupyter environment, please rerun this cell to show the HTML representation or trust the notebook. <br />On GitHub, the HTML representation is unable to render, please try loading this page with nbviewer.org.</b></div><div class=\"sk-container\" hidden><div class=\"sk-item\"><div class=\"sk-estimator sk-toggleable\"><input class=\"sk-toggleable__control sk-hidden--visually\" id=\"sk-estimator-id-2\" type=\"checkbox\" checked><label for=\"sk-estimator-id-2\" class=\"sk-toggleable__label sk-toggleable__label-arrow\">LinearRegression</label><div class=\"sk-toggleable__content\"><pre>LinearRegression()</pre></div></div></div></div></div>"
            ]
          },
          "metadata": {},
          "execution_count": 39
        }
      ]
    },
    {
      "cell_type": "code",
      "source": [
        "y_pred_test = regressor.predict(X_test)\n",
        "y_pred_train = regressor.predict(X_train)"
      ],
      "metadata": {
        "id": "0EHo162J-yzA"
      },
      "execution_count": null,
      "outputs": []
    },
    {
      "cell_type": "code",
      "source": [
        "from sklearn.metrics import mean_absolute_error\n",
        "print('MAE Train{0:.5f}'.format(mean_absolute_error(y_train,y_pred_train)))\n",
        "\n",
        "print('MAE Train{0:.5f}'.format(mean_absolute_error(y_test,y_pred_test)))"
      ],
      "metadata": {
        "colab": {
          "base_uri": "https://localhost:8080/"
        },
        "id": "ux2Gmtgf-0Fs",
        "outputId": "ec89bc8e-9b37-4e8f-ccb2-83e49414ca68"
      },
      "execution_count": null,
      "outputs": [
        {
          "output_type": "stream",
          "name": "stdout",
          "text": [
            "MAE Train0.01449\n",
            "MAE Train0.01410\n"
          ]
        }
      ]
    },
    {
      "cell_type": "code",
      "source": [
        "from sklearn.metrics import r2_score\n",
        "print('R2{0:.5f}'.format(r2_score(y_train,y_pred_train)))\n",
        "from sklearn.metrics import r2_score\n",
        "print('R2{0:.5f}'.format(r2_score(y_test,y_pred_test)))"
      ],
      "metadata": {
        "colab": {
          "base_uri": "https://localhost:8080/"
        },
        "id": "NOUiLI_o-198",
        "outputId": "7a783a89-d18b-41c9-9be1-5f67385cdb91"
      },
      "execution_count": null,
      "outputs": [
        {
          "output_type": "stream",
          "name": "stdout",
          "text": [
            "R20.99358\n",
            "R20.99450\n"
          ]
        }
      ]
    },
    {
      "cell_type": "code",
      "source": [
        "# Hitung MSE (Mean Squared Error)\n",
        "mse = mean_squared_error(y_test,y_pred_test)\n",
        "\n",
        "# Hitung RMSE (Root Mean Squared Error)\n",
        "rmse = np.sqrt(mse)\n",
        "\n",
        "print(rmse)"
      ],
      "metadata": {
        "colab": {
          "base_uri": "https://localhost:8080/"
        },
        "id": "jmz3n-Cq-7hs",
        "outputId": "7b36efb3-659a-4ba5-915e-76ba7cc7e19e"
      },
      "execution_count": null,
      "outputs": [
        {
          "output_type": "stream",
          "name": "stdout",
          "text": [
            "0.015055488871882216\n"
          ]
        }
      ]
    },
    {
      "cell_type": "code",
      "source": [
        "y_pred_test2d = y_pred_test.reshape(-1,1)\n",
        "y_test2d = y_test.reshape(-1,1)"
      ],
      "metadata": {
        "id": "IZfju6wt-_HZ"
      },
      "execution_count": null,
      "outputs": []
    },
    {
      "cell_type": "code",
      "source": [
        "nilai_prediksitest = scalery.inverse_transform(y_pred_test2d)\n",
        "nilai_test = scalery.inverse_transform(y_test2d)"
      ],
      "metadata": {
        "id": "a0_wMEwD_Mc6"
      },
      "execution_count": null,
      "outputs": []
    },
    {
      "cell_type": "code",
      "source": [
        "datanew = actual_10days_array.reshape(-1,1)\n",
        "datanew1 = actual_11days_array.reshape(-1,1)"
      ],
      "metadata": {
        "id": "-pEEEGyS_Ntg"
      },
      "execution_count": null,
      "outputs": []
    },
    {
      "cell_type": "code",
      "source": [
        "sc_Actualarray= MinMaxScaler()\n",
        "Actual10_scale = sc_Actualarray.fit_transform(datanew)\n",
        "Actual11_scale = sc_Actualarray.fit_transform(datanew1)"
      ],
      "metadata": {
        "id": "ukGNaPZ1_O7g"
      },
      "execution_count": null,
      "outputs": []
    },
    {
      "cell_type": "code",
      "source": [
        "features_for_prediction = np.concatenate((Actual10_scale, Actual11_scale), axis=1)\n"
      ],
      "metadata": {
        "id": "XhomMqlY_P2P"
      },
      "execution_count": null,
      "outputs": []
    },
    {
      "cell_type": "code",
      "source": [
        "features_for_prediction.shape\n",
        "prediction10d = regressor.predict(features_for_prediction)"
      ],
      "metadata": {
        "id": "JqhTTIK-_S8t"
      },
      "execution_count": null,
      "outputs": []
    },
    {
      "cell_type": "code",
      "source": [
        "nilai_baru = sc_Actualarray.inverse_transform(prediction10d)"
      ],
      "metadata": {
        "id": "2N_5FpKY_VK5"
      },
      "execution_count": null,
      "outputs": []
    },
    {
      "cell_type": "code",
      "source": [
        "print(nilai_baru)"
      ],
      "metadata": {
        "colab": {
          "base_uri": "https://localhost:8080/"
        },
        "id": "jo4rgVsp_Xjl",
        "outputId": "71fe966f-e780-4e19-c5e0-aa9815102406"
      },
      "execution_count": null,
      "outputs": [
        {
          "output_type": "stream",
          "name": "stdout",
          "text": [
            "[[15176.13687865]\n",
            " [15190.2453899 ]\n",
            " [15204.38225977]\n",
            " [15218.49077102]\n",
            " [15215.56883505]\n",
            " [15185.37549661]\n",
            " [15162.00000878]]\n"
          ]
        }
      ]
    },
    {
      "cell_type": "code",
      "source": [
        "print(\"Model slope:    \", regressor.coef_[0])\n",
        "print(\"Model intercept:\", regressor.intercept_)"
      ],
      "metadata": {
        "colab": {
          "base_uri": "https://localhost:8080/"
        },
        "id": "_4YJdBdgBAaK",
        "outputId": "4bef9c4a-d0c2-4d7e-b6a0-276ca211d514"
      },
      "execution_count": null,
      "outputs": [
        {
          "output_type": "stream",
          "name": "stdout",
          "text": [
            "Model slope:     [0.47281002 0.50116864]\n",
            "Model intercept: [1.51452662e-07]\n"
          ]
        }
      ]
    },
    {
      "cell_type": "markdown",
      "source": [
        "# SVR 1 fitur\n"
      ],
      "metadata": {
        "id": "QwcQjHFQAkzI"
      }
    },
    {
      "cell_type": "code",
      "source": [
        "X = np.array(df['KursJual'])\n",
        "X.shape"
      ],
      "metadata": {
        "colab": {
          "base_uri": "https://localhost:8080/"
        },
        "id": "6w1igR19ArAO",
        "outputId": "39e677c7-7e2d-4fa1-f1c6-b9336fa532e9"
      },
      "execution_count": null,
      "outputs": [
        {
          "output_type": "execute_result",
          "data": {
            "text/plain": [
              "(3894,)"
            ]
          },
          "metadata": {},
          "execution_count": 53
        }
      ]
    },
    {
      "cell_type": "code",
      "source": [
        "y = np.array(df['KursTgh'])\n",
        "y = y.reshape(-1,1)"
      ],
      "metadata": {
        "id": "XcHrTXKoAwiJ"
      },
      "execution_count": null,
      "outputs": []
    },
    {
      "cell_type": "code",
      "source": [
        "n= 7\n",
        "actual_10days_array = np.array(df['KursJual'])[-n:]"
      ],
      "metadata": {
        "id": "rOuSWDecAyG2"
      },
      "execution_count": null,
      "outputs": []
    },
    {
      "cell_type": "code",
      "source": [
        "scalerX = MinMaxScaler()\n",
        "X = X.reshape(-1,1)\n",
        "scalerX.fit(X)\n",
        "X = scalerX.transform(X)"
      ],
      "metadata": {
        "id": "vDyqbk0TAz-B"
      },
      "execution_count": null,
      "outputs": []
    },
    {
      "cell_type": "code",
      "source": [
        "scalery = MinMaxScaler()\n",
        "scalery.fit(y)\n",
        "y = scalery.transform(y)"
      ],
      "metadata": {
        "id": "nS-TsQwyBIql"
      },
      "execution_count": null,
      "outputs": []
    },
    {
      "cell_type": "code",
      "source": [
        "from sklearn.model_selection import train_test_split\n",
        "X_train, X_test, y_train, y_test = train_test_split(X,y, test_size = 0.30, random_state=42)"
      ],
      "metadata": {
        "id": "CGsShzqdBJr5"
      },
      "execution_count": null,
      "outputs": []
    },
    {
      "cell_type": "code",
      "source": [
        "kernels = ['linear', 'poly', 'rbf']\n",
        "C_values = [0.01, 0.1, 1, 10]\n",
        "epsilon_values = [0.001, 0.01, 0.1, 1]\n",
        "gamma_values = [1e-4, 1e-3, 1e-2, 1e-1]\n",
        "degree_values = [2, 3, 4]"
      ],
      "metadata": {
        "id": "JNwe2CSrBLaV"
      },
      "execution_count": null,
      "outputs": []
    },
    {
      "cell_type": "code",
      "source": [
        "best_scores = {}\n",
        "best_models = {}\n",
        "results = {}"
      ],
      "metadata": {
        "id": "E_Vx_vaZBM-y"
      },
      "execution_count": null,
      "outputs": []
    },
    {
      "cell_type": "code",
      "source": [
        "from sklearn.model_selection import cross_val_score\n",
        "from sklearn.svm import SVR\n",
        "from sklearn.model_selection import GridSearchCV\n",
        "from sklearn.metrics import mean_squared_error, mean_absolute_error\n",
        "from sklearn.metrics import make_scorer\n",
        "from sklearn.metrics import r2_score"
      ],
      "metadata": {
        "id": "GdkyshsMBOGD"
      },
      "execution_count": null,
      "outputs": []
    },
    {
      "cell_type": "code",
      "source": [
        "for kernel in kernels:\n",
        "    if kernel == 'poly':\n",
        "        # Gunakan parameter degree untuk kernel polynomial\n",
        "        param_grid = {'C': C_values, 'degree': degree_values, 'epsilon': epsilon_values, 'gamma': gamma_values}\n",
        "    else:\n",
        "        param_grid = {'C': C_values, 'epsilon': epsilon_values, 'gamma': gamma_values}\n",
        "\n",
        "    model = SVR(kernel=kernel)\n",
        "\n",
        "    # Inisialisasi TimeSeriesSplit untuk melakukan Time Series Cross-Validation\n",
        "    #tscv = TimeSeriesSplit(n_splits=5)\n",
        "\n",
        "    # Inisialisasi GridSearchCV dengan model SVR, param_grid, dan TimeSeriesSplit\n",
        "    grid_search = GridSearchCV(model, param_grid, scoring='neg_mean_absolute_error', cv=5, n_jobs=-1)\n",
        "\n",
        "    # Lakukan Grid Search untuk mencari parameter terbaik\n",
        "    grid_search.fit(X_train, y_train)\n",
        "\n",
        "    # Simpan hasil evaluasi untuk setiap kernel dan parameter\n",
        "    for i, (params, mean_score) in enumerate(zip(grid_search.cv_results_['params'], grid_search.cv_results_['mean_test_score'])):\n",
        "        if kernel not in results:\n",
        "            results[kernel] = {}\n",
        "        param_key = '_'.join([f\"{key}_{params[key]}\" for key in params])\n",
        "        mae_score = -grid_search.cv_results_['mean_test_score'][i]\n",
        "        rmse_score = np.sqrt(mean_squared_error(y_train, grid_search.predict(X_train)))\n",
        "        r2_score_value = r2_score(y_train, grid_search.predict(X_train))\n",
        "        results[kernel][param_key] = {'MAE': mae_score, 'RMSE': rmse_score, 'R2 Score': r2_score_value}\n",
        "\n",
        "    # Simpan model terbaik untuk setiap kernel\n",
        "    best_models[kernel] = grid_search.best_estimator_"
      ],
      "metadata": {
        "colab": {
          "base_uri": "https://localhost:8080/"
        },
        "id": "DmR1KmFrBPaV",
        "outputId": "2afb3de6-cb59-4110-e591-aa8ad2ff9d80"
      },
      "execution_count": null,
      "outputs": [
        {
          "output_type": "stream",
          "name": "stderr",
          "text": [
            "/usr/local/lib/python3.10/dist-packages/sklearn/utils/validation.py:1143: DataConversionWarning: A column-vector y was passed when a 1d array was expected. Please change the shape of y to (n_samples, ), for example using ravel().\n",
            "  y = column_or_1d(y, warn=True)\n",
            "/usr/local/lib/python3.10/dist-packages/sklearn/utils/validation.py:1143: DataConversionWarning: A column-vector y was passed when a 1d array was expected. Please change the shape of y to (n_samples, ), for example using ravel().\n",
            "  y = column_or_1d(y, warn=True)\n",
            "/usr/local/lib/python3.10/dist-packages/sklearn/utils/validation.py:1143: DataConversionWarning: A column-vector y was passed when a 1d array was expected. Please change the shape of y to (n_samples, ), for example using ravel().\n",
            "  y = column_or_1d(y, warn=True)\n"
          ]
        }
      ]
    },
    {
      "cell_type": "code",
      "source": [
        "# Cari kernel dengan nilai evaluasi terbaik\n",
        "best_kernel = None\n",
        "best_score = float('inf')\n",
        "for kernel, kernel_results in results.items():\n",
        "    for param_key, scores in kernel_results.items():\n",
        "        if scores['MAE'] < best_score:\n",
        "            best_kernel = kernel\n",
        "            best_score = scores['MAE']"
      ],
      "metadata": {
        "id": "p2Fo_NyJBQma"
      },
      "execution_count": null,
      "outputs": []
    },
    {
      "cell_type": "code",
      "source": [
        "best_model = best_models[best_kernel]"
      ],
      "metadata": {
        "id": "u1pATKTGCQuT"
      },
      "execution_count": null,
      "outputs": []
    },
    {
      "cell_type": "code",
      "source": [
        "# Mencetak kernel terbaik dan parameter terbaik\n",
        "best_params = best_model.get_params()\n",
        "best_C = best_params['C']\n",
        "best_epsilon = best_params['epsilon']\n",
        "best_gamma = best_params['gamma']\n",
        "best_degree = best_params['degree'] if 'degree' in best_params else None\n",
        "\n",
        "print(f\"Kernel terbaik: {best_kernel}\")\n",
        "print(f\"Parameter terbaik: C={best_C}, epsilon={best_epsilon}, gamma={best_gamma}\", end=\"\")\n",
        "if best_kernel == 'poly':\n",
        "    print(f\", degree={best_degree}\")\n",
        "else:\n",
        "    print(\"\")"
      ],
      "metadata": {
        "colab": {
          "base_uri": "https://localhost:8080/"
        },
        "id": "Tbv5vSDpCSkV",
        "outputId": "313e2f24-b8b8-4ce9-e867-96fef0dc1755"
      },
      "execution_count": null,
      "outputs": [
        {
          "output_type": "stream",
          "name": "stdout",
          "text": [
            "Kernel terbaik: rbf\n",
            "Parameter terbaik: C=10, epsilon=0.001, gamma=0.01\n"
          ]
        }
      ]
    },
    {
      "cell_type": "code",
      "source": [
        "# Cari kernel dengan nilai evaluasi terbaik\n",
        "best_kernel = None\n",
        "best_score = float('inf')\n",
        "for kernel, kernel_results in results.items():\n",
        "    for param_key, scores in kernel_results.items():\n",
        "        if scores['MAE'] < best_score and kernel == 'poly':  # Ubah kondisi agar hanya memilih kernel 'poly'\n",
        "            best_kernel = kernel\n",
        "            best_score = scores['MAE']\n",
        "\n",
        "# Ambil model terbaik untuk kernel dengan nilai evaluasi terbaik\n",
        "best_model = best_models[best_kernel]\n",
        "\n",
        "# Mencetak kernel terbaik dan parameter terbaik hanya jika kernel adalah 'poly'\n",
        "if best_kernel == 'poly':\n",
        "    best_params = best_model.get_params()\n",
        "    best_C = best_params['C']\n",
        "    best_epsilon = best_params['epsilon']\n",
        "    best_gamma = best_params['gamma']\n",
        "    best_degree = best_params['degree']\n",
        "    print(f\"Kernel terbaik: {best_kernel}\")\n",
        "    print(f\"Parameter terbaik: C={best_C}, epsilon={best_epsilon}, gamma={best_gamma}, degree={best_degree}\")\n",
        "else:\n",
        "    print(\"Kernel terbaik bukan kernel polinomial.\")\n",
        "#Dengan perubahan ini, kode hanya akan mencetak parameter terbaik untuk kernel 'poly'. Jika kernel terbaik adalah 'poly', maka parameter untuk kernel 'poly' akan dicetak. Jika kernel terbaik adalah 'linear' atau 'rbf', maka pesan bahwa kernel terbaik bukan kernel polinomial akan dicetak.\n",
        "\n"
      ],
      "metadata": {
        "colab": {
          "base_uri": "https://localhost:8080/"
        },
        "id": "raCeTYc1CTgs",
        "outputId": "be996f9f-ba0a-4bc3-ff26-47227bc18590"
      },
      "execution_count": null,
      "outputs": [
        {
          "output_type": "stream",
          "name": "stdout",
          "text": [
            "Kernel terbaik: poly\n",
            "Parameter terbaik: C=10, epsilon=0.001, gamma=0.1, degree=2\n"
          ]
        }
      ]
    },
    {
      "cell_type": "code",
      "source": [
        "# Cari kernel dengan nilai evaluasi terbaik\n",
        "best_kernel = None\n",
        "best_score = float('inf')\n",
        "for kernel, kernel_results in results.items():\n",
        "    for param_key, scores in kernel_results.items():\n",
        "        if scores['MAE'] < best_score and kernel == 'linear':  # Ubah kondisi agar hanya memilih kernel 'linear'\n",
        "            best_kernel = kernel\n",
        "            best_score = scores['MAE']\n",
        "\n",
        "# Ambil model terbaik untuk kernel dengan nilai evaluasi terbaik\n",
        "best_model = best_models[best_kernel]\n",
        "\n",
        "# Mencetak kernel terbaik dan parameter terbaik hanya jika kernel adalah 'linear'\n",
        "if best_kernel == 'linear':\n",
        "    best_params = best_model.get_params()\n",
        "    best_C = best_params['C']\n",
        "    best_epsilon = best_params['epsilon']\n",
        "    best_gamma = best_params['gamma']\n",
        "    print(f\"Kernel terbaik: {best_kernel}\")\n",
        "    print(f\"Parameter terbaik: C={best_C}, epsilon={best_epsilon}, gamma={best_gamma}\")\n",
        "else:\n",
        "    print(\"Kernel terbaik bukan kernel linear.\")"
      ],
      "metadata": {
        "colab": {
          "base_uri": "https://localhost:8080/"
        },
        "id": "rQE31SJFCWSp",
        "outputId": "48beef3b-e660-483e-c94f-8dd183f4b01e"
      },
      "execution_count": null,
      "outputs": [
        {
          "output_type": "stream",
          "name": "stdout",
          "text": [
            "Kernel terbaik: linear\n",
            "Parameter terbaik: C=1, epsilon=0.001, gamma=0.0001\n"
          ]
        }
      ]
    },
    {
      "cell_type": "code",
      "source": [
        "# Prediksi menggunakan model terbaik\n",
        "y_pred_train = best_model.predict(X_train)\n",
        "y_pred_test = best_model.predict(X_test)"
      ],
      "metadata": {
        "id": "n37gk_tGCX4n"
      },
      "execution_count": null,
      "outputs": []
    },
    {
      "cell_type": "code",
      "source": [
        "# Denormalisasi hasil prediksi untuk mendapatkan nilai aktual\n",
        "y_train_actual_denorm = scalery.inverse_transform(y_train)\n",
        "y_train_pred_denorm = scalery.inverse_transform(y_pred_train.reshape(-1, 1))\n",
        "y_test_actual_denorm = scalery.inverse_transform(y_test)\n",
        "y_test_pred_denorm = scalery.inverse_transform(y_pred_test.reshape(-1, 1))"
      ],
      "metadata": {
        "id": "VO3JA7DMCfDq"
      },
      "execution_count": null,
      "outputs": []
    },
    {
      "cell_type": "code",
      "source": [
        "from sklearn.metrics import mean_absolute_error\n",
        "print('MSE Train{0:.5f}'.format(mean_absolute_error(y_train,y_pred_train)))\n",
        "\n",
        "print('MSE Train{0:.5f}'.format(mean_absolute_error(y_test,y_pred_test)))"
      ],
      "metadata": {
        "colab": {
          "base_uri": "https://localhost:8080/"
        },
        "id": "VE27Q7w0CkXQ",
        "outputId": "be5e03a3-955d-4068-e24f-f045a7b46bc1"
      },
      "execution_count": null,
      "outputs": [
        {
          "output_type": "stream",
          "name": "stdout",
          "text": [
            "MSE Train0.00033\n",
            "MSE Train0.00034\n"
          ]
        }
      ]
    },
    {
      "cell_type": "code",
      "source": [
        "from sklearn.metrics import r2_score\n",
        "print('R2{0:.5f}'.format(r2_score(y_train,y_pred_train)))\n",
        "from sklearn.metrics import r2_score\n",
        "print('R2{0:.5f}'.format(r2_score(y_test,y_pred_test)))"
      ],
      "metadata": {
        "colab": {
          "base_uri": "https://localhost:8080/"
        },
        "id": "n-yKCJccCwKO",
        "outputId": "53b916e1-b01a-4c76-8906-956e547d0798"
      },
      "execution_count": null,
      "outputs": [
        {
          "output_type": "stream",
          "name": "stdout",
          "text": [
            "R21.00000\n",
            "R21.00000\n"
          ]
        }
      ]
    },
    {
      "cell_type": "code",
      "source": [
        "# Hitung MSE (Mean Squared Error)\n",
        "mse = mean_squared_error(y_train,y_pred_train)\n",
        "\n",
        "# Hitung RMSE (Root Mean Squared Error)\n",
        "rmse = np.sqrt(mse)\n",
        "\n",
        "print(rmse)"
      ],
      "metadata": {
        "colab": {
          "base_uri": "https://localhost:8080/"
        },
        "id": "t10TSEStCw9B",
        "outputId": "782275d6-6342-4873-ba8a-a641d82e1329"
      },
      "execution_count": null,
      "outputs": [
        {
          "output_type": "stream",
          "name": "stdout",
          "text": [
            "0.00040487637025582104\n"
          ]
        }
      ]
    },
    {
      "cell_type": "code",
      "source": [
        "modellin= SVR(kernel= 'linear',C=1,epsilon= 0.001,gamma=0.0001)\n",
        "modellin.fit(X_train,np.ravel(y_train))"
      ],
      "metadata": {
        "colab": {
          "base_uri": "https://localhost:8080/",
          "height": 74
        },
        "id": "QFEszX_fC201",
        "outputId": "401331e5-47ff-4edf-85d6-5836e9eb2879"
      },
      "execution_count": null,
      "outputs": [
        {
          "output_type": "execute_result",
          "data": {
            "text/plain": [
              "SVR(C=1, epsilon=0.001, gamma=0.0001, kernel='linear')"
            ],
            "text/html": [
              "<style>#sk-container-id-3 {color: black;background-color: white;}#sk-container-id-3 pre{padding: 0;}#sk-container-id-3 div.sk-toggleable {background-color: white;}#sk-container-id-3 label.sk-toggleable__label {cursor: pointer;display: block;width: 100%;margin-bottom: 0;padding: 0.3em;box-sizing: border-box;text-align: center;}#sk-container-id-3 label.sk-toggleable__label-arrow:before {content: \"▸\";float: left;margin-right: 0.25em;color: #696969;}#sk-container-id-3 label.sk-toggleable__label-arrow:hover:before {color: black;}#sk-container-id-3 div.sk-estimator:hover label.sk-toggleable__label-arrow:before {color: black;}#sk-container-id-3 div.sk-toggleable__content {max-height: 0;max-width: 0;overflow: hidden;text-align: left;background-color: #f0f8ff;}#sk-container-id-3 div.sk-toggleable__content pre {margin: 0.2em;color: black;border-radius: 0.25em;background-color: #f0f8ff;}#sk-container-id-3 input.sk-toggleable__control:checked~div.sk-toggleable__content {max-height: 200px;max-width: 100%;overflow: auto;}#sk-container-id-3 input.sk-toggleable__control:checked~label.sk-toggleable__label-arrow:before {content: \"▾\";}#sk-container-id-3 div.sk-estimator input.sk-toggleable__control:checked~label.sk-toggleable__label {background-color: #d4ebff;}#sk-container-id-3 div.sk-label input.sk-toggleable__control:checked~label.sk-toggleable__label {background-color: #d4ebff;}#sk-container-id-3 input.sk-hidden--visually {border: 0;clip: rect(1px 1px 1px 1px);clip: rect(1px, 1px, 1px, 1px);height: 1px;margin: -1px;overflow: hidden;padding: 0;position: absolute;width: 1px;}#sk-container-id-3 div.sk-estimator {font-family: monospace;background-color: #f0f8ff;border: 1px dotted black;border-radius: 0.25em;box-sizing: border-box;margin-bottom: 0.5em;}#sk-container-id-3 div.sk-estimator:hover {background-color: #d4ebff;}#sk-container-id-3 div.sk-parallel-item::after {content: \"\";width: 100%;border-bottom: 1px solid gray;flex-grow: 1;}#sk-container-id-3 div.sk-label:hover label.sk-toggleable__label {background-color: #d4ebff;}#sk-container-id-3 div.sk-serial::before {content: \"\";position: absolute;border-left: 1px solid gray;box-sizing: border-box;top: 0;bottom: 0;left: 50%;z-index: 0;}#sk-container-id-3 div.sk-serial {display: flex;flex-direction: column;align-items: center;background-color: white;padding-right: 0.2em;padding-left: 0.2em;position: relative;}#sk-container-id-3 div.sk-item {position: relative;z-index: 1;}#sk-container-id-3 div.sk-parallel {display: flex;align-items: stretch;justify-content: center;background-color: white;position: relative;}#sk-container-id-3 div.sk-item::before, #sk-container-id-3 div.sk-parallel-item::before {content: \"\";position: absolute;border-left: 1px solid gray;box-sizing: border-box;top: 0;bottom: 0;left: 50%;z-index: -1;}#sk-container-id-3 div.sk-parallel-item {display: flex;flex-direction: column;z-index: 1;position: relative;background-color: white;}#sk-container-id-3 div.sk-parallel-item:first-child::after {align-self: flex-end;width: 50%;}#sk-container-id-3 div.sk-parallel-item:last-child::after {align-self: flex-start;width: 50%;}#sk-container-id-3 div.sk-parallel-item:only-child::after {width: 0;}#sk-container-id-3 div.sk-dashed-wrapped {border: 1px dashed gray;margin: 0 0.4em 0.5em 0.4em;box-sizing: border-box;padding-bottom: 0.4em;background-color: white;}#sk-container-id-3 div.sk-label label {font-family: monospace;font-weight: bold;display: inline-block;line-height: 1.2em;}#sk-container-id-3 div.sk-label-container {text-align: center;}#sk-container-id-3 div.sk-container {/* jupyter's `normalize.less` sets `[hidden] { display: none; }` but bootstrap.min.css set `[hidden] { display: none !important; }` so we also need the `!important` here to be able to override the default hidden behavior on the sphinx rendered scikit-learn.org. See: https://github.com/scikit-learn/scikit-learn/issues/21755 */display: inline-block !important;position: relative;}#sk-container-id-3 div.sk-text-repr-fallback {display: none;}</style><div id=\"sk-container-id-3\" class=\"sk-top-container\"><div class=\"sk-text-repr-fallback\"><pre>SVR(C=1, epsilon=0.001, gamma=0.0001, kernel=&#x27;linear&#x27;)</pre><b>In a Jupyter environment, please rerun this cell to show the HTML representation or trust the notebook. <br />On GitHub, the HTML representation is unable to render, please try loading this page with nbviewer.org.</b></div><div class=\"sk-container\" hidden><div class=\"sk-item\"><div class=\"sk-estimator sk-toggleable\"><input class=\"sk-toggleable__control sk-hidden--visually\" id=\"sk-estimator-id-3\" type=\"checkbox\" checked><label for=\"sk-estimator-id-3\" class=\"sk-toggleable__label sk-toggleable__label-arrow\">SVR</label><div class=\"sk-toggleable__content\"><pre>SVR(C=1, epsilon=0.001, gamma=0.0001, kernel=&#x27;linear&#x27;)</pre></div></div></div></div></div>"
            ]
          },
          "metadata": {},
          "execution_count": 73
        }
      ]
    },
    {
      "cell_type": "code",
      "source": [
        "y_pred_testlin = modellin.predict(X_test)\n",
        "y_pred_trainlin = modellin.predict(X_train)"
      ],
      "metadata": {
        "id": "_47Inb20C-xl"
      },
      "execution_count": null,
      "outputs": []
    },
    {
      "cell_type": "code",
      "source": [
        "from sklearn.metrics import mean_absolute_error\n",
        "print('MSE Train{0:.5f}'.format(mean_absolute_error(y_train,y_pred_trainlin)))\n",
        "\n",
        "print('MSE Train{0:.5f}'.format(mean_absolute_error(y_test,y_pred_testlin)))"
      ],
      "metadata": {
        "colab": {
          "base_uri": "https://localhost:8080/"
        },
        "id": "p5MDyQEPDDj1",
        "outputId": "ecd2fb4a-7a94-4898-8b31-5294b904f9fc"
      },
      "execution_count": null,
      "outputs": [
        {
          "output_type": "stream",
          "name": "stdout",
          "text": [
            "MSE Train0.00033\n",
            "MSE Train0.00034\n"
          ]
        }
      ]
    },
    {
      "cell_type": "code",
      "source": [
        "from sklearn.metrics import r2_score\n",
        "print('R2{0:.5f}'.format(r2_score(y_train,y_pred_trainlin)))\n",
        "from sklearn.metrics import r2_score\n",
        "print('R2{0:.5f}'.format(r2_score(y_test,y_pred_testlin)))"
      ],
      "metadata": {
        "colab": {
          "base_uri": "https://localhost:8080/"
        },
        "id": "eiyL8H3aDGAG",
        "outputId": "fb707bf2-1e7f-422d-e191-8dc87c31eecb"
      },
      "execution_count": null,
      "outputs": [
        {
          "output_type": "stream",
          "name": "stdout",
          "text": [
            "R21.00000\n",
            "R21.00000\n"
          ]
        }
      ]
    },
    {
      "cell_type": "code",
      "source": [
        "# Hitung MSE (Mean Squared Error)\n",
        "mse = mean_squared_error(y_test,y_pred_testlin)\n",
        "\n",
        "# Hitung RMSE (Root Mean Squared Error)\n",
        "rmse = np.sqrt(mse)\n",
        "\n",
        "print(rmse)"
      ],
      "metadata": {
        "colab": {
          "base_uri": "https://localhost:8080/"
        },
        "id": "Gj6b8DexDGaG",
        "outputId": "2e7e6a53-dac3-4320-84dc-640b3c2d3f2e"
      },
      "execution_count": null,
      "outputs": [
        {
          "output_type": "stream",
          "name": "stdout",
          "text": [
            "0.00041777391205921616\n"
          ]
        }
      ]
    },
    {
      "cell_type": "code",
      "source": [
        "modelpol= SVR(kernel= 'poly',C=10,epsilon= 0.001,gamma=0.1,degree=2)\n",
        "modelpol.fit(X_train,np.ravel(y_train))"
      ],
      "metadata": {
        "colab": {
          "base_uri": "https://localhost:8080/",
          "height": 74
        },
        "id": "CzKMlwxzDHrb",
        "outputId": "10f87610-bb72-4f24-b417-b9b332101ad4"
      },
      "execution_count": null,
      "outputs": [
        {
          "output_type": "execute_result",
          "data": {
            "text/plain": [
              "SVR(C=10, degree=2, epsilon=0.001, gamma=0.1, kernel='poly')"
            ],
            "text/html": [
              "<style>#sk-container-id-4 {color: black;background-color: white;}#sk-container-id-4 pre{padding: 0;}#sk-container-id-4 div.sk-toggleable {background-color: white;}#sk-container-id-4 label.sk-toggleable__label {cursor: pointer;display: block;width: 100%;margin-bottom: 0;padding: 0.3em;box-sizing: border-box;text-align: center;}#sk-container-id-4 label.sk-toggleable__label-arrow:before {content: \"▸\";float: left;margin-right: 0.25em;color: #696969;}#sk-container-id-4 label.sk-toggleable__label-arrow:hover:before {color: black;}#sk-container-id-4 div.sk-estimator:hover label.sk-toggleable__label-arrow:before {color: black;}#sk-container-id-4 div.sk-toggleable__content {max-height: 0;max-width: 0;overflow: hidden;text-align: left;background-color: #f0f8ff;}#sk-container-id-4 div.sk-toggleable__content pre {margin: 0.2em;color: black;border-radius: 0.25em;background-color: #f0f8ff;}#sk-container-id-4 input.sk-toggleable__control:checked~div.sk-toggleable__content {max-height: 200px;max-width: 100%;overflow: auto;}#sk-container-id-4 input.sk-toggleable__control:checked~label.sk-toggleable__label-arrow:before {content: \"▾\";}#sk-container-id-4 div.sk-estimator input.sk-toggleable__control:checked~label.sk-toggleable__label {background-color: #d4ebff;}#sk-container-id-4 div.sk-label input.sk-toggleable__control:checked~label.sk-toggleable__label {background-color: #d4ebff;}#sk-container-id-4 input.sk-hidden--visually {border: 0;clip: rect(1px 1px 1px 1px);clip: rect(1px, 1px, 1px, 1px);height: 1px;margin: -1px;overflow: hidden;padding: 0;position: absolute;width: 1px;}#sk-container-id-4 div.sk-estimator {font-family: monospace;background-color: #f0f8ff;border: 1px dotted black;border-radius: 0.25em;box-sizing: border-box;margin-bottom: 0.5em;}#sk-container-id-4 div.sk-estimator:hover {background-color: #d4ebff;}#sk-container-id-4 div.sk-parallel-item::after {content: \"\";width: 100%;border-bottom: 1px solid gray;flex-grow: 1;}#sk-container-id-4 div.sk-label:hover label.sk-toggleable__label {background-color: #d4ebff;}#sk-container-id-4 div.sk-serial::before {content: \"\";position: absolute;border-left: 1px solid gray;box-sizing: border-box;top: 0;bottom: 0;left: 50%;z-index: 0;}#sk-container-id-4 div.sk-serial {display: flex;flex-direction: column;align-items: center;background-color: white;padding-right: 0.2em;padding-left: 0.2em;position: relative;}#sk-container-id-4 div.sk-item {position: relative;z-index: 1;}#sk-container-id-4 div.sk-parallel {display: flex;align-items: stretch;justify-content: center;background-color: white;position: relative;}#sk-container-id-4 div.sk-item::before, #sk-container-id-4 div.sk-parallel-item::before {content: \"\";position: absolute;border-left: 1px solid gray;box-sizing: border-box;top: 0;bottom: 0;left: 50%;z-index: -1;}#sk-container-id-4 div.sk-parallel-item {display: flex;flex-direction: column;z-index: 1;position: relative;background-color: white;}#sk-container-id-4 div.sk-parallel-item:first-child::after {align-self: flex-end;width: 50%;}#sk-container-id-4 div.sk-parallel-item:last-child::after {align-self: flex-start;width: 50%;}#sk-container-id-4 div.sk-parallel-item:only-child::after {width: 0;}#sk-container-id-4 div.sk-dashed-wrapped {border: 1px dashed gray;margin: 0 0.4em 0.5em 0.4em;box-sizing: border-box;padding-bottom: 0.4em;background-color: white;}#sk-container-id-4 div.sk-label label {font-family: monospace;font-weight: bold;display: inline-block;line-height: 1.2em;}#sk-container-id-4 div.sk-label-container {text-align: center;}#sk-container-id-4 div.sk-container {/* jupyter's `normalize.less` sets `[hidden] { display: none; }` but bootstrap.min.css set `[hidden] { display: none !important; }` so we also need the `!important` here to be able to override the default hidden behavior on the sphinx rendered scikit-learn.org. See: https://github.com/scikit-learn/scikit-learn/issues/21755 */display: inline-block !important;position: relative;}#sk-container-id-4 div.sk-text-repr-fallback {display: none;}</style><div id=\"sk-container-id-4\" class=\"sk-top-container\"><div class=\"sk-text-repr-fallback\"><pre>SVR(C=10, degree=2, epsilon=0.001, gamma=0.1, kernel=&#x27;poly&#x27;)</pre><b>In a Jupyter environment, please rerun this cell to show the HTML representation or trust the notebook. <br />On GitHub, the HTML representation is unable to render, please try loading this page with nbviewer.org.</b></div><div class=\"sk-container\" hidden><div class=\"sk-item\"><div class=\"sk-estimator sk-toggleable\"><input class=\"sk-toggleable__control sk-hidden--visually\" id=\"sk-estimator-id-4\" type=\"checkbox\" checked><label for=\"sk-estimator-id-4\" class=\"sk-toggleable__label sk-toggleable__label-arrow\">SVR</label><div class=\"sk-toggleable__content\"><pre>SVR(C=10, degree=2, epsilon=0.001, gamma=0.1, kernel=&#x27;poly&#x27;)</pre></div></div></div></div></div>"
            ]
          },
          "metadata": {},
          "execution_count": 78
        }
      ]
    },
    {
      "cell_type": "code",
      "source": [
        "y_pred_testpol = modelpol.predict(X_test)\n",
        "y_pred_trainpol = modelpol.predict(X_train)"
      ],
      "metadata": {
        "id": "vdBhhQXMDV0t"
      },
      "execution_count": null,
      "outputs": []
    },
    {
      "cell_type": "code",
      "source": [
        "from sklearn.metrics import mean_absolute_error\n",
        "print('MSE Train{0:.5f}'.format(mean_absolute_error(y_train,y_pred_trainpol)))\n",
        "\n",
        "print('MSE Train{0:.5f}'.format(mean_absolute_error(y_test,y_pred_testpol)))"
      ],
      "metadata": {
        "colab": {
          "base_uri": "https://localhost:8080/"
        },
        "id": "MPc4ja53Dazr",
        "outputId": "6b40b3cb-e788-42d4-fdec-259ebe1006a5"
      },
      "execution_count": null,
      "outputs": [
        {
          "output_type": "stream",
          "name": "stdout",
          "text": [
            "MSE Train0.02909\n",
            "MSE Train0.03389\n"
          ]
        }
      ]
    },
    {
      "cell_type": "code",
      "source": [
        "from sklearn.metrics import r2_score\n",
        "print('R2{0:.5f}'.format(r2_score(y_train,y_pred_trainpol)))\n",
        "from sklearn.metrics import r2_score\n",
        "print('R2{0:.5f}'.format(r2_score(y_test,y_pred_testpol)))"
      ],
      "metadata": {
        "colab": {
          "base_uri": "https://localhost:8080/"
        },
        "id": "y_ADpXwhDe8m",
        "outputId": "ee47aa6e-6cce-494b-ce16-003414aa87e9"
      },
      "execution_count": null,
      "outputs": [
        {
          "output_type": "stream",
          "name": "stdout",
          "text": [
            "R20.87856\n",
            "R20.86825\n"
          ]
        }
      ]
    },
    {
      "cell_type": "code",
      "source": [
        "# Hitung MSE (Mean Squared Error)\n",
        "mse = mean_squared_error(y_train,y_pred_trainpol)\n",
        "\n",
        "# Hitung RMSE (Root Mean Squared Error)\n",
        "rmse = np.sqrt(mse)\n",
        "\n",
        "print(rmse)"
      ],
      "metadata": {
        "colab": {
          "base_uri": "https://localhost:8080/"
        },
        "id": "k9SBnPkkDjJr",
        "outputId": "0c25e403-ef85-4824-e2b3-248b848bb595"
      },
      "execution_count": null,
      "outputs": [
        {
          "output_type": "stream",
          "name": "stdout",
          "text": [
            "0.06662446347944595\n"
          ]
        }
      ]
    },
    {
      "cell_type": "code",
      "source": [
        "datanew = actual_10days_array.reshape(-1,1)\n",
        "sc_Actualarray= MinMaxScaler()\n",
        "Actual10_scale = sc_Actualarray.fit_transform(datanew)\n",
        "print(Actual10_scale)"
      ],
      "metadata": {
        "colab": {
          "base_uri": "https://localhost:8080/"
        },
        "id": "2M1zpe6iDmFh",
        "outputId": "e8c28b79-73c4-4b43-e30a-b477bff709f4"
      },
      "execution_count": null,
      "outputs": [
        {
          "output_type": "stream",
          "name": "stdout",
          "text": [
            "[[0.24137931]\n",
            " [0.5       ]\n",
            " [0.74137931]\n",
            " [1.        ]\n",
            " [0.94827586]\n",
            " [0.4137931 ]\n",
            " [0.        ]]\n"
          ]
        }
      ]
    },
    {
      "cell_type": "markdown",
      "source": [
        "Model lInear"
      ],
      "metadata": {
        "id": "WCpooCajEA-V"
      }
    },
    {
      "cell_type": "code",
      "source": [
        "prediction10d = modellin.predict(Actual10_scale)\n",
        "prediction10d = prediction10d.reshape(-1,1)"
      ],
      "metadata": {
        "id": "OlRiehbADqJD"
      },
      "execution_count": null,
      "outputs": []
    },
    {
      "cell_type": "code",
      "source": [
        "nilai_baru = scalerX.inverse_transform(prediction10d)"
      ],
      "metadata": {
        "id": "aD6VwMw-Drv9"
      },
      "execution_count": null,
      "outputs": []
    },
    {
      "cell_type": "code",
      "source": [
        "print(nilai_baru)"
      ],
      "metadata": {
        "colab": {
          "base_uri": "https://localhost:8080/"
        },
        "id": "-ismZdTJDtN2",
        "outputId": "ee41b908-1089-4cc1-8e1d-d652a712a335"
      },
      "execution_count": null,
      "outputs": [
        {
          "output_type": "stream",
          "name": "stdout",
          "text": [
            "[[11409.5427755 ]\n",
            " [13253.38363787]\n",
            " [14974.30177609]\n",
            " [16818.14263847]\n",
            " [16449.37446599]\n",
            " [12638.77001708]\n",
            " [ 9688.62463728]]\n"
          ]
        }
      ]
    },
    {
      "cell_type": "markdown",
      "source": [
        "model poly\n"
      ],
      "metadata": {
        "id": "Ant8a-BGEDnZ"
      }
    },
    {
      "cell_type": "code",
      "source": [
        "prediction10pol = modelpol.predict(Actual10_scale)\n",
        "prediction10pol = prediction10pol.reshape(-1,1)"
      ],
      "metadata": {
        "id": "EzbPHkABDv1h"
      },
      "execution_count": null,
      "outputs": []
    },
    {
      "cell_type": "code",
      "source": [
        "nilai_baru1 = scalerX.inverse_transform(prediction10pol)\n",
        "print(nilai_baru1)"
      ],
      "metadata": {
        "colab": {
          "base_uri": "https://localhost:8080/"
        },
        "id": "xftpHCoVEImm",
        "outputId": "05f7fe00-928a-49b6-c509-d11d26c68b1e"
      },
      "execution_count": null,
      "outputs": [
        {
          "output_type": "stream",
          "name": "stdout",
          "text": [
            "[[12063.50322644]\n",
            " [13241.72443685]\n",
            " [15083.03758429]\n",
            " [17850.48740409]\n",
            " [17231.2362563 ]\n",
            " [12757.64905583]\n",
            " [11705.47011444]]\n"
          ]
        }
      ]
    },
    {
      "cell_type": "markdown",
      "source": [
        "RBF\n"
      ],
      "metadata": {
        "id": "qskbRprCEXp_"
      }
    },
    {
      "cell_type": "code",
      "source": [
        "prediction10rbf = best_model.predict(Actual10_scale)\n",
        "prediction10rbf = prediction10rbf.reshape(-1,1)"
      ],
      "metadata": {
        "id": "jY3pGLtHEPMt"
      },
      "execution_count": null,
      "outputs": []
    },
    {
      "cell_type": "code",
      "source": [
        "nilai_baru2 = scalerX.inverse_transform(prediction10rbf)\n",
        "print(nilai_baru2)"
      ],
      "metadata": {
        "colab": {
          "base_uri": "https://localhost:8080/"
        },
        "id": "yg1vzZdaEkec",
        "outputId": "24bbb5ce-03fd-4eca-dd50-c7e33f35ceee"
      },
      "execution_count": null,
      "outputs": [
        {
          "output_type": "stream",
          "name": "stdout",
          "text": [
            "[[11409.5427755 ]\n",
            " [13253.38363787]\n",
            " [14974.30177609]\n",
            " [16818.14263847]\n",
            " [16449.37446599]\n",
            " [12638.77001708]\n",
            " [ 9688.62463728]]\n"
          ]
        }
      ]
    },
    {
      "cell_type": "markdown",
      "source": [
        "# SVR 2 fitur"
      ],
      "metadata": {
        "id": "cGXURw8nEwSD"
      }
    },
    {
      "cell_type": "code",
      "source": [
        "X=np.array(df[['KursJual','KursBeli']])\n",
        "X.shape"
      ],
      "metadata": {
        "colab": {
          "base_uri": "https://localhost:8080/"
        },
        "id": "twvOsLhxEzFi",
        "outputId": "fc9debd2-49e0-4f03-ab88-62e685e8dbe1"
      },
      "execution_count": null,
      "outputs": [
        {
          "output_type": "execute_result",
          "data": {
            "text/plain": [
              "(3894, 2)"
            ]
          },
          "metadata": {},
          "execution_count": 91
        }
      ]
    },
    {
      "cell_type": "code",
      "source": [
        "y = np.array(df['KursTgh'])\n",
        "y = y.reshape(-1,1)"
      ],
      "metadata": {
        "id": "Cb23YspjFB8c"
      },
      "execution_count": null,
      "outputs": []
    },
    {
      "cell_type": "code",
      "source": [
        "n=7\n",
        "actual_10days_array = np.array(df['KursJual'])[-n:]\n",
        "actual_11days_array = np.array(df['KursBeli'])[-n:]"
      ],
      "metadata": {
        "id": "TLViYlKzFCzZ"
      },
      "execution_count": null,
      "outputs": []
    },
    {
      "cell_type": "code",
      "source": [
        "scalerX = MinMaxScaler()\n",
        "scalerX.fit(X)\n",
        "X = scalerX.transform(X)"
      ],
      "metadata": {
        "id": "AfNkpPN1FE_M"
      },
      "execution_count": null,
      "outputs": []
    },
    {
      "cell_type": "code",
      "source": [
        "scalery = MinMaxScaler()\n",
        "scalery.fit(y)\n",
        "y = scalery.transform(y)"
      ],
      "metadata": {
        "id": "yd71iNzoFF_4"
      },
      "execution_count": null,
      "outputs": []
    },
    {
      "cell_type": "code",
      "source": [
        "from sklearn.model_selection import train_test_split\n",
        "X_train, X_test, y_train, y_test = train_test_split(X,y, test_size = 0.20, random_state=42)"
      ],
      "metadata": {
        "id": "94vTmkviFG32"
      },
      "execution_count": null,
      "outputs": []
    },
    {
      "cell_type": "code",
      "source": [
        "kernels = ['linear', 'poly', 'rbf']\n",
        "C_values = [0.01, 0.1, 1, 10]\n",
        "epsilon_values = [0.001, 0.01, 0.1, 1]\n",
        "gamma_values = [1e-4, 1e-3, 1e-2, 1e-1]\n",
        "degree_values = [2, 3, 4]"
      ],
      "metadata": {
        "id": "6NIRZxoUFJL4"
      },
      "execution_count": null,
      "outputs": []
    },
    {
      "cell_type": "code",
      "source": [
        "best_scores = {}\n",
        "best_models = {}\n",
        "results = {}"
      ],
      "metadata": {
        "id": "VqvkOzr5FJ_N"
      },
      "execution_count": null,
      "outputs": []
    },
    {
      "cell_type": "code",
      "source": [
        "from sklearn.model_selection import cross_val_score\n",
        "from sklearn.svm import SVR\n",
        "from sklearn.model_selection import GridSearchCV\n",
        "from sklearn.metrics import mean_squared_error, mean_absolute_error\n",
        "from sklearn.metrics import make_scorer\n",
        "from sklearn.metrics import r2_score"
      ],
      "metadata": {
        "id": "Pflto9DQFKtA"
      },
      "execution_count": null,
      "outputs": []
    },
    {
      "cell_type": "code",
      "source": [
        "for kernel in kernels:\n",
        "    if kernel == 'poly':\n",
        "        # Gunakan parameter degree untuk kernel polynomial\n",
        "        param_grid = {'C': C_values, 'degree': degree_values, 'epsilon': epsilon_values, 'gamma': gamma_values}\n",
        "    else:\n",
        "        param_grid = {'C': C_values, 'epsilon': epsilon_values, 'gamma': gamma_values}\n",
        "\n",
        "    model = SVR(kernel=kernel)\n",
        "\n",
        "    # Inisialisasi TimeSeriesSplit untuk melakukan Time Series Cross-Validation\n",
        "    #tscv = TimeSeriesSplit(n_splits=5)\n",
        "\n",
        "    # Inisialisasi GridSearchCV dengan model SVR, param_grid, dan TimeSeriesSplit\n",
        "    grid_search = GridSearchCV(model, param_grid, scoring='neg_mean_absolute_error', cv=5, n_jobs=-1)\n",
        "\n",
        "    # Lakukan Grid Search untuk mencari parameter terbaik\n",
        "    grid_search.fit(X_train, y_train)\n",
        "\n",
        "    # Simpan hasil evaluasi untuk setiap kernel dan parameter\n",
        "    for i, (params, mean_score) in enumerate(zip(grid_search.cv_results_['params'], grid_search.cv_results_['mean_test_score'])):\n",
        "        if kernel not in results:\n",
        "            results[kernel] = {}\n",
        "        param_key = '_'.join([f\"{key}_{params[key]}\" for key in params])\n",
        "        mae_score = -grid_search.cv_results_['mean_test_score'][i]\n",
        "        rmse_score = np.sqrt(mean_squared_error(y_train, grid_search.predict(X_train)))\n",
        "        r2_score_value = r2_score(y_train, grid_search.predict(X_train))\n",
        "        results[kernel][param_key] = {'MAE': mae_score, 'RMSE': rmse_score, 'R2 Score': r2_score_value}\n",
        "\n",
        "    # Simpan model terbaik untuk setiap kernel\n",
        "    best_models[kernel] = grid_search.best_estimator_"
      ],
      "metadata": {
        "colab": {
          "base_uri": "https://localhost:8080/"
        },
        "id": "7pqKKMxzFLyd",
        "outputId": "349ccfbf-96af-4153-9de1-b764d01b3dbd"
      },
      "execution_count": null,
      "outputs": [
        {
          "output_type": "stream",
          "name": "stderr",
          "text": [
            "/usr/local/lib/python3.10/dist-packages/sklearn/utils/validation.py:1143: DataConversionWarning: A column-vector y was passed when a 1d array was expected. Please change the shape of y to (n_samples, ), for example using ravel().\n",
            "  y = column_or_1d(y, warn=True)\n",
            "/usr/local/lib/python3.10/dist-packages/sklearn/utils/validation.py:1143: DataConversionWarning: A column-vector y was passed when a 1d array was expected. Please change the shape of y to (n_samples, ), for example using ravel().\n",
            "  y = column_or_1d(y, warn=True)\n",
            "/usr/local/lib/python3.10/dist-packages/sklearn/utils/validation.py:1143: DataConversionWarning: A column-vector y was passed when a 1d array was expected. Please change the shape of y to (n_samples, ), for example using ravel().\n",
            "  y = column_or_1d(y, warn=True)\n"
          ]
        }
      ]
    },
    {
      "cell_type": "code",
      "source": [
        "# Cari kernel dengan nilai evaluasi terbaik\n",
        "best_kernel = None\n",
        "best_score = float('inf')\n",
        "for kernel, kernel_results in results.items():\n",
        "    for param_key, scores in kernel_results.items():\n",
        "        if scores['MAE'] < best_score:\n",
        "            best_kernel = kernel\n",
        "            best_score = scores['MAE']"
      ],
      "metadata": {
        "id": "WeK9irmtFMqq"
      },
      "execution_count": null,
      "outputs": []
    },
    {
      "cell_type": "code",
      "source": [
        "best_model = best_models[best_kernel]"
      ],
      "metadata": {
        "id": "O_v5jRFKHgC9"
      },
      "execution_count": null,
      "outputs": []
    },
    {
      "cell_type": "code",
      "source": [
        "# Mencetak kernel terbaik dan parameter terbaik\n",
        "best_params = best_model.get_params()\n",
        "best_C = best_params['C']\n",
        "best_epsilon = best_params['epsilon']\n",
        "best_gamma = best_params['gamma']\n",
        "best_degree = best_params['degree'] if 'degree' in best_params else None\n",
        "\n",
        "print(f\"Kernel terbaik: {best_kernel}\")\n",
        "print(f\"Parameter terbaik: C={best_C}, epsilon={best_epsilon}, gamma={best_gamma}\", end=\"\")\n",
        "if best_kernel == 'poly':\n",
        "    print(f\", degree={best_degree}\")\n",
        "else:\n",
        "    print(\"\")"
      ],
      "metadata": {
        "colab": {
          "base_uri": "https://localhost:8080/"
        },
        "id": "2ZKx5C0VHhAB",
        "outputId": "59317a70-5e3f-4a77-9f6c-eb56462c3264"
      },
      "execution_count": null,
      "outputs": [
        {
          "output_type": "stream",
          "name": "stdout",
          "text": [
            "Kernel terbaik: rbf\n",
            "Parameter terbaik: C=10, epsilon=0.001, gamma=0.01\n"
          ]
        }
      ]
    },
    {
      "cell_type": "code",
      "source": [
        "# Prediksi menggunakan model terbaik\n",
        "y_train_pred = best_model.predict(X_train)\n",
        "y_test_pred = best_model.predict(X_test)"
      ],
      "metadata": {
        "id": "El8IqVnEkeZe"
      },
      "execution_count": null,
      "outputs": []
    },
    {
      "cell_type": "code",
      "source": [
        "from sklearn.metrics import mean_absolute_error\n",
        "print('MSE Train{0:.5f}'.format(mean_absolute_error(y_train,y_train_pred)))\n",
        "\n",
        "print('MSE Train{0:.5f}'.format(mean_absolute_error(y_test,y_test_pred)))"
      ],
      "metadata": {
        "colab": {
          "base_uri": "https://localhost:8080/"
        },
        "id": "KhRbn7bhHiou",
        "outputId": "f02d79d6-bb5a-4d9d-dc53-0dc8a1bf9751"
      },
      "execution_count": null,
      "outputs": [
        {
          "output_type": "stream",
          "name": "stdout",
          "text": [
            "MSE Train0.00026\n",
            "MSE Train0.00027\n"
          ]
        }
      ]
    },
    {
      "cell_type": "code",
      "source": [
        "from sklearn.metrics import r2_score\n",
        "print('R2{0:.5f}'.format(r2_score(y_train,y_train_pred)))\n",
        "from sklearn.metrics import r2_score\n",
        "print('R2{0:.5f}'.format(r2_score(y_test,y_test_pred)))"
      ],
      "metadata": {
        "colab": {
          "base_uri": "https://localhost:8080/"
        },
        "id": "oz8fmSuhHn1O",
        "outputId": "04aad59d-92d9-4e10-fa9d-ac156bbaebe4"
      },
      "execution_count": null,
      "outputs": [
        {
          "output_type": "stream",
          "name": "stdout",
          "text": [
            "R21.00000\n",
            "R21.00000\n"
          ]
        }
      ]
    },
    {
      "cell_type": "code",
      "source": [
        "# Hitung MSE (Mean Squared Error)\n",
        "mse = mean_squared_error(y_test,y_test_pred)\n",
        "\n",
        "# Hitung RMSE (Root Mean Squared Error)\n",
        "rmse = np.sqrt(mse)\n",
        "\n",
        "print(rmse)"
      ],
      "metadata": {
        "colab": {
          "base_uri": "https://localhost:8080/"
        },
        "id": "Awq0b-ApHpwN",
        "outputId": "44af30bb-fa6c-467a-92e0-bed4516b7fa3"
      },
      "execution_count": null,
      "outputs": [
        {
          "output_type": "stream",
          "name": "stdout",
          "text": [
            "0.00032798633053222653\n"
          ]
        }
      ]
    },
    {
      "cell_type": "code",
      "source": [
        "y_pred_test2d = y_test_pred.reshape(-1,1)\n",
        "y_test2d = y_test.reshape(-1,1)"
      ],
      "metadata": {
        "id": "TaC-nr2NHsis"
      },
      "execution_count": null,
      "outputs": []
    },
    {
      "cell_type": "code",
      "source": [
        "nilai_prediksitest = scalery.inverse_transform(y_pred_test2d)\n",
        "nilai_test = scalery.inverse_transform(y_test2d)"
      ],
      "metadata": {
        "id": "6_-Gt5kEHviN"
      },
      "execution_count": null,
      "outputs": []
    },
    {
      "cell_type": "code",
      "source": [
        "datanew = actual_10days_array.reshape(-1,1)\n",
        "datanew1 = actual_11days_array.reshape(-1,1)\n",
        "print(datanew)"
      ],
      "metadata": {
        "colab": {
          "base_uri": "https://localhost:8080/"
        },
        "id": "RChTb1_rHwie",
        "outputId": "d57fd459-ee93-4628-f7b3-081bf51fe615"
      },
      "execution_count": null,
      "outputs": [
        {
          "output_type": "stream",
          "name": "stdout",
          "text": [
            "[[15329]\n",
            " [15344]\n",
            " [15358]\n",
            " [15373]\n",
            " [15370]\n",
            " [15339]\n",
            " [15315]]\n"
          ]
        }
      ]
    },
    {
      "cell_type": "code",
      "source": [
        "sc_Actualarray= MinMaxScaler()\n",
        "Actual10_scale = sc_Actualarray.fit_transform(datanew)\n",
        "Actual11_scale = sc_Actualarray.fit_transform(datanew1)\n"
      ],
      "metadata": {
        "id": "ne4B-8YEHzLz"
      },
      "execution_count": null,
      "outputs": []
    },
    {
      "cell_type": "code",
      "source": [
        "features_for_prediction = np.concatenate((Actual10_scale, Actual11_scale), axis=1)\n"
      ],
      "metadata": {
        "id": "PMi4GKWlH1Va"
      },
      "execution_count": null,
      "outputs": []
    },
    {
      "cell_type": "code",
      "source": [
        "prediction10d = best_model.predict(features_for_prediction)"
      ],
      "metadata": {
        "id": "lCJC9TN_H2dU"
      },
      "execution_count": null,
      "outputs": []
    },
    {
      "cell_type": "code",
      "source": [
        "prediction10d = prediction10d.reshape(-1,1)"
      ],
      "metadata": {
        "id": "C2hoKlJ0lLMJ"
      },
      "execution_count": null,
      "outputs": []
    },
    {
      "cell_type": "code",
      "source": [
        "nilai_baru = sc_Actualarray.inverse_transform(prediction10d)"
      ],
      "metadata": {
        "id": "exbHHy0sH3gF"
      },
      "execution_count": null,
      "outputs": []
    },
    {
      "cell_type": "code",
      "source": [
        "print(nilai_baru)"
      ],
      "metadata": {
        "colab": {
          "base_uri": "https://localhost:8080/"
        },
        "id": "xPSBxXaAH5Z8",
        "outputId": "6256c9c9-06bb-469e-bf83-20251ce9ea3d"
      },
      "execution_count": null,
      "outputs": [
        {
          "output_type": "stream",
          "name": "stdout",
          "text": [
            "[[15176.47634341]\n",
            " [15190.99897672]\n",
            " [15205.5180579 ]\n",
            " [15219.92527194]\n",
            " [15216.9589284 ]\n",
            " [15185.98606495]\n",
            " [15162.05846179]]\n"
          ]
        }
      ]
    },
    {
      "cell_type": "code",
      "source": [
        "df.head()"
      ],
      "metadata": {
        "colab": {
          "base_uri": "https://localhost:8080/",
          "height": 237
        },
        "id": "CybjyhreIjLi",
        "outputId": "d675d574-c4c4-4c5a-cb0d-8806eac43d87"
      },
      "execution_count": null,
      "outputs": [
        {
          "output_type": "execute_result",
          "data": {
            "text/plain": [
              "            KursJual  KursBeli  KursTgh\n",
              "Date                                   \n",
              "2013-01-02      9733      9637     9685\n",
              "2013-01-03      9718      9622     9670\n",
              "2013-01-04      9723      9627     9675\n",
              "2013-01-05      9744      9648     9696\n",
              "2013-01-06      9766      9668     9717"
            ],
            "text/html": [
              "\n",
              "  <div id=\"df-d705e968-89a1-481e-8b6c-77d8dc42297c\" class=\"colab-df-container\">\n",
              "    <div>\n",
              "<style scoped>\n",
              "    .dataframe tbody tr th:only-of-type {\n",
              "        vertical-align: middle;\n",
              "    }\n",
              "\n",
              "    .dataframe tbody tr th {\n",
              "        vertical-align: top;\n",
              "    }\n",
              "\n",
              "    .dataframe thead th {\n",
              "        text-align: right;\n",
              "    }\n",
              "</style>\n",
              "<table border=\"1\" class=\"dataframe\">\n",
              "  <thead>\n",
              "    <tr style=\"text-align: right;\">\n",
              "      <th></th>\n",
              "      <th>KursJual</th>\n",
              "      <th>KursBeli</th>\n",
              "      <th>KursTgh</th>\n",
              "    </tr>\n",
              "    <tr>\n",
              "      <th>Date</th>\n",
              "      <th></th>\n",
              "      <th></th>\n",
              "      <th></th>\n",
              "    </tr>\n",
              "  </thead>\n",
              "  <tbody>\n",
              "    <tr>\n",
              "      <th>2013-01-02</th>\n",
              "      <td>9733</td>\n",
              "      <td>9637</td>\n",
              "      <td>9685</td>\n",
              "    </tr>\n",
              "    <tr>\n",
              "      <th>2013-01-03</th>\n",
              "      <td>9718</td>\n",
              "      <td>9622</td>\n",
              "      <td>9670</td>\n",
              "    </tr>\n",
              "    <tr>\n",
              "      <th>2013-01-04</th>\n",
              "      <td>9723</td>\n",
              "      <td>9627</td>\n",
              "      <td>9675</td>\n",
              "    </tr>\n",
              "    <tr>\n",
              "      <th>2013-01-05</th>\n",
              "      <td>9744</td>\n",
              "      <td>9648</td>\n",
              "      <td>9696</td>\n",
              "    </tr>\n",
              "    <tr>\n",
              "      <th>2013-01-06</th>\n",
              "      <td>9766</td>\n",
              "      <td>9668</td>\n",
              "      <td>9717</td>\n",
              "    </tr>\n",
              "  </tbody>\n",
              "</table>\n",
              "</div>\n",
              "    <div class=\"colab-df-buttons\">\n",
              "\n",
              "  <div class=\"colab-df-container\">\n",
              "    <button class=\"colab-df-convert\" onclick=\"convertToInteractive('df-d705e968-89a1-481e-8b6c-77d8dc42297c')\"\n",
              "            title=\"Convert this dataframe to an interactive table.\"\n",
              "            style=\"display:none;\">\n",
              "\n",
              "  <svg xmlns=\"http://www.w3.org/2000/svg\" height=\"24px\" viewBox=\"0 -960 960 960\">\n",
              "    <path d=\"M120-120v-720h720v720H120Zm60-500h600v-160H180v160Zm220 220h160v-160H400v160Zm0 220h160v-160H400v160ZM180-400h160v-160H180v160Zm440 0h160v-160H620v160ZM180-180h160v-160H180v160Zm440 0h160v-160H620v160Z\"/>\n",
              "  </svg>\n",
              "    </button>\n",
              "\n",
              "  <style>\n",
              "    .colab-df-container {\n",
              "      display:flex;\n",
              "      gap: 12px;\n",
              "    }\n",
              "\n",
              "    .colab-df-convert {\n",
              "      background-color: #E8F0FE;\n",
              "      border: none;\n",
              "      border-radius: 50%;\n",
              "      cursor: pointer;\n",
              "      display: none;\n",
              "      fill: #1967D2;\n",
              "      height: 32px;\n",
              "      padding: 0 0 0 0;\n",
              "      width: 32px;\n",
              "    }\n",
              "\n",
              "    .colab-df-convert:hover {\n",
              "      background-color: #E2EBFA;\n",
              "      box-shadow: 0px 1px 2px rgba(60, 64, 67, 0.3), 0px 1px 3px 1px rgba(60, 64, 67, 0.15);\n",
              "      fill: #174EA6;\n",
              "    }\n",
              "\n",
              "    .colab-df-buttons div {\n",
              "      margin-bottom: 4px;\n",
              "    }\n",
              "\n",
              "    [theme=dark] .colab-df-convert {\n",
              "      background-color: #3B4455;\n",
              "      fill: #D2E3FC;\n",
              "    }\n",
              "\n",
              "    [theme=dark] .colab-df-convert:hover {\n",
              "      background-color: #434B5C;\n",
              "      box-shadow: 0px 1px 3px 1px rgba(0, 0, 0, 0.15);\n",
              "      filter: drop-shadow(0px 1px 2px rgba(0, 0, 0, 0.3));\n",
              "      fill: #FFFFFF;\n",
              "    }\n",
              "  </style>\n",
              "\n",
              "    <script>\n",
              "      const buttonEl =\n",
              "        document.querySelector('#df-d705e968-89a1-481e-8b6c-77d8dc42297c button.colab-df-convert');\n",
              "      buttonEl.style.display =\n",
              "        google.colab.kernel.accessAllowed ? 'block' : 'none';\n",
              "\n",
              "      async function convertToInteractive(key) {\n",
              "        const element = document.querySelector('#df-d705e968-89a1-481e-8b6c-77d8dc42297c');\n",
              "        const dataTable =\n",
              "          await google.colab.kernel.invokeFunction('convertToInteractive',\n",
              "                                                    [key], {});\n",
              "        if (!dataTable) return;\n",
              "\n",
              "        const docLinkHtml = 'Like what you see? Visit the ' +\n",
              "          '<a target=\"_blank\" href=https://colab.research.google.com/notebooks/data_table.ipynb>data table notebook</a>'\n",
              "          + ' to learn more about interactive tables.';\n",
              "        element.innerHTML = '';\n",
              "        dataTable['output_type'] = 'display_data';\n",
              "        await google.colab.output.renderOutput(dataTable, element);\n",
              "        const docLink = document.createElement('div');\n",
              "        docLink.innerHTML = docLinkHtml;\n",
              "        element.appendChild(docLink);\n",
              "      }\n",
              "    </script>\n",
              "  </div>\n",
              "\n",
              "\n",
              "<div id=\"df-2d9a01ed-d77a-4dc3-8906-a64cea7607fb\">\n",
              "  <button class=\"colab-df-quickchart\" onclick=\"quickchart('df-2d9a01ed-d77a-4dc3-8906-a64cea7607fb')\"\n",
              "            title=\"Suggest charts\"\n",
              "            style=\"display:none;\">\n",
              "\n",
              "<svg xmlns=\"http://www.w3.org/2000/svg\" height=\"24px\"viewBox=\"0 0 24 24\"\n",
              "     width=\"24px\">\n",
              "    <g>\n",
              "        <path d=\"M19 3H5c-1.1 0-2 .9-2 2v14c0 1.1.9 2 2 2h14c1.1 0 2-.9 2-2V5c0-1.1-.9-2-2-2zM9 17H7v-7h2v7zm4 0h-2V7h2v10zm4 0h-2v-4h2v4z\"/>\n",
              "    </g>\n",
              "</svg>\n",
              "  </button>\n",
              "\n",
              "<style>\n",
              "  .colab-df-quickchart {\n",
              "      --bg-color: #E8F0FE;\n",
              "      --fill-color: #1967D2;\n",
              "      --hover-bg-color: #E2EBFA;\n",
              "      --hover-fill-color: #174EA6;\n",
              "      --disabled-fill-color: #AAA;\n",
              "      --disabled-bg-color: #DDD;\n",
              "  }\n",
              "\n",
              "  [theme=dark] .colab-df-quickchart {\n",
              "      --bg-color: #3B4455;\n",
              "      --fill-color: #D2E3FC;\n",
              "      --hover-bg-color: #434B5C;\n",
              "      --hover-fill-color: #FFFFFF;\n",
              "      --disabled-bg-color: #3B4455;\n",
              "      --disabled-fill-color: #666;\n",
              "  }\n",
              "\n",
              "  .colab-df-quickchart {\n",
              "    background-color: var(--bg-color);\n",
              "    border: none;\n",
              "    border-radius: 50%;\n",
              "    cursor: pointer;\n",
              "    display: none;\n",
              "    fill: var(--fill-color);\n",
              "    height: 32px;\n",
              "    padding: 0;\n",
              "    width: 32px;\n",
              "  }\n",
              "\n",
              "  .colab-df-quickchart:hover {\n",
              "    background-color: var(--hover-bg-color);\n",
              "    box-shadow: 0 1px 2px rgba(60, 64, 67, 0.3), 0 1px 3px 1px rgba(60, 64, 67, 0.15);\n",
              "    fill: var(--button-hover-fill-color);\n",
              "  }\n",
              "\n",
              "  .colab-df-quickchart-complete:disabled,\n",
              "  .colab-df-quickchart-complete:disabled:hover {\n",
              "    background-color: var(--disabled-bg-color);\n",
              "    fill: var(--disabled-fill-color);\n",
              "    box-shadow: none;\n",
              "  }\n",
              "\n",
              "  .colab-df-spinner {\n",
              "    border: 2px solid var(--fill-color);\n",
              "    border-color: transparent;\n",
              "    border-bottom-color: var(--fill-color);\n",
              "    animation:\n",
              "      spin 1s steps(1) infinite;\n",
              "  }\n",
              "\n",
              "  @keyframes spin {\n",
              "    0% {\n",
              "      border-color: transparent;\n",
              "      border-bottom-color: var(--fill-color);\n",
              "      border-left-color: var(--fill-color);\n",
              "    }\n",
              "    20% {\n",
              "      border-color: transparent;\n",
              "      border-left-color: var(--fill-color);\n",
              "      border-top-color: var(--fill-color);\n",
              "    }\n",
              "    30% {\n",
              "      border-color: transparent;\n",
              "      border-left-color: var(--fill-color);\n",
              "      border-top-color: var(--fill-color);\n",
              "      border-right-color: var(--fill-color);\n",
              "    }\n",
              "    40% {\n",
              "      border-color: transparent;\n",
              "      border-right-color: var(--fill-color);\n",
              "      border-top-color: var(--fill-color);\n",
              "    }\n",
              "    60% {\n",
              "      border-color: transparent;\n",
              "      border-right-color: var(--fill-color);\n",
              "    }\n",
              "    80% {\n",
              "      border-color: transparent;\n",
              "      border-right-color: var(--fill-color);\n",
              "      border-bottom-color: var(--fill-color);\n",
              "    }\n",
              "    90% {\n",
              "      border-color: transparent;\n",
              "      border-bottom-color: var(--fill-color);\n",
              "    }\n",
              "  }\n",
              "</style>\n",
              "\n",
              "  <script>\n",
              "    async function quickchart(key) {\n",
              "      const quickchartButtonEl =\n",
              "        document.querySelector('#' + key + ' button');\n",
              "      quickchartButtonEl.disabled = true;  // To prevent multiple clicks.\n",
              "      quickchartButtonEl.classList.add('colab-df-spinner');\n",
              "      try {\n",
              "        const charts = await google.colab.kernel.invokeFunction(\n",
              "            'suggestCharts', [key], {});\n",
              "      } catch (error) {\n",
              "        console.error('Error during call to suggestCharts:', error);\n",
              "      }\n",
              "      quickchartButtonEl.classList.remove('colab-df-spinner');\n",
              "      quickchartButtonEl.classList.add('colab-df-quickchart-complete');\n",
              "    }\n",
              "    (() => {\n",
              "      let quickchartButtonEl =\n",
              "        document.querySelector('#df-2d9a01ed-d77a-4dc3-8906-a64cea7607fb button');\n",
              "      quickchartButtonEl.style.display =\n",
              "        google.colab.kernel.accessAllowed ? 'block' : 'none';\n",
              "    })();\n",
              "  </script>\n",
              "</div>\n",
              "    </div>\n",
              "  </div>\n"
            ]
          },
          "metadata": {},
          "execution_count": 117
        }
      ]
    },
    {
      "cell_type": "code",
      "source": [
        "from datetime import datetime, timedelta\n",
        "\n",
        "# Ambil tanggal terakhir dari indeks dataset\n",
        "\n",
        "last_date = df.index[-1]\n",
        "\n",
        "# Hitung tanggal 7 hari ke depan\n",
        "future_dates = [last_date + timedelta(days=i) for i in range(1, 8)]\n",
        "\n",
        "# Buat indeks tanggal untuk tanggal-tanggal prediksi\n",
        "indeks_prediksi = pd.date_range(start=last_date + timedelta(days=1), periods=7, closed='right')\n",
        "Actual10_scale_reshaped = Actual10_scale.reshape(-1, 1)\n",
        "Actual11_scale_reshaped = Actual11_scale.reshape(-1, 1)\n",
        "features_for_prediction1 = np.concatenate((Actual10_scale_reshaped, Actual11_scale_reshaped), axis=1)\n",
        "\n",
        "# Lakukan prediksi untuk data masa depan (pastikan X_prediksi sesuai)\n",
        "prediksi_series = best_model.predict(features_for_prediction1)\n",
        "prediksi_series=prediksi_series.reshape(-1,1)\n",
        "nilai_baru11 = sc_Actualarray.inverse_transform(prediksi_series)  # Ganti X_prediksi sesuai dengan data input yang benar\n",
        "nilai_baru11 = nilai_baru11.reshape(-1)\n",
        "\n",
        "df_prediksi = pd.DataFrame({\n",
        "    'KursJual': actual_10days_array ,\n",
        "    'KursBeli': actual_11days_array ,\n",
        "    'KursTgh': nilai_baru11\n",
        "}, index=future_dates)\n",
        "dfs = df.append(df_prediksi)\n",
        "\n",
        "# Tampilkan DataFrame hasil gabungan\n",
        "print(dfs)"
      ],
      "metadata": {
        "colab": {
          "base_uri": "https://localhost:8080/"
        },
        "id": "fVt3t98-H8LU",
        "outputId": "b3618eb9-18f7-4c08-8036-e697eae45680"
      },
      "execution_count": null,
      "outputs": [
        {
          "output_type": "stream",
          "name": "stdout",
          "text": [
            "            KursJual  KursBeli       KursTgh\n",
            "2013-01-02      9733      9637   9685.000000\n",
            "2013-01-03      9718      9622   9670.000000\n",
            "2013-01-04      9723      9627   9675.000000\n",
            "2013-01-05      9744      9648   9696.000000\n",
            "2013-01-06      9766      9668   9717.000000\n",
            "...              ...       ...           ...\n",
            "2023-09-03     15358     15206  15205.518058\n",
            "2023-09-04     15373     15220  15219.925272\n",
            "2023-09-05     15370     15217  15216.958928\n",
            "2023-09-06     15339     15186  15185.986065\n",
            "2023-09-07     15315     15162  15162.058462\n",
            "\n",
            "[3901 rows x 3 columns]\n"
          ]
        },
        {
          "output_type": "stream",
          "name": "stderr",
          "text": [
            "<ipython-input-118-3413d1a59945>:11: FutureWarning: Argument `closed` is deprecated in favor of `inclusive`.\n",
            "  indeks_prediksi = pd.date_range(start=last_date + timedelta(days=1), periods=7, closed='right')\n",
            "<ipython-input-118-3413d1a59945>:27: FutureWarning: The frame.append method is deprecated and will be removed from pandas in a future version. Use pandas.concat instead.\n",
            "  dfs = df.append(df_prediksi)\n"
          ]
        }
      ]
    },
    {
      "cell_type": "code",
      "source": [
        "df_2023 = dfs['2023']\n",
        "\n",
        "# Ambil data mulai bulan September 2023 ke depan\n",
        "df_2023_september_onward = df_2023['2023-09-01':]\n",
        "\n",
        "# Tentukan indeks untuk 7 data terakhir\n",
        "indeks_7_terakhir = df_2023_september_onward.index[-7:]\n",
        "\n",
        "# Gabungkan data untuk memastikan indeks terhubung\n",
        "df_combined = pd.DataFrame({'KursTghAsli': df_2023_september_onward['KursTgh'], 'KursTgh7Terakhir': df_2023_september_onward['KursTgh']})\n",
        "df_combined['KursTgh7Terakhir'].loc[~df_combined.index.isin(indeks_7_terakhir)] = np.nan\n",
        "\n",
        "# Visualisasi data asli (warna biru dan merah terhubung)\n",
        "plt.plot(df_combined.index, df_combined['KursTghAsli'], label='Kurs Tengah Asli', color='blue')\n",
        "\n",
        "# Visualisasi 7 data terakhir (warna merah)\n",
        "plt.plot(df_combined.index, df_combined['KursTgh7Terakhir'],\n",
        "         label='Prediksi',  color='red')\n",
        "\n",
        "# Format tanggal pada sumbu x menjadi bulan\n",
        "plt.gca().xaxis.set_major_locator(mdates.MonthLocator())\n",
        "plt.gca().xaxis.set_major_formatter(mdates.DateFormatter('%b'))\n",
        "\n",
        "# Tambahkan label sumbu dan legenda\n",
        "plt.xlabel('Bulan Tahun 2023')\n",
        "plt.ylabel('Model Regresi Linear')\n",
        "plt.legend()\n",
        "\n",
        "# Tampilkan plot\n",
        "plt.show()"
      ],
      "metadata": {
        "colab": {
          "base_uri": "https://localhost:8080/",
          "height": 504
        },
        "id": "mJ_fuQstJFKp",
        "outputId": "3b76199b-2fca-4a3b-8963-c6fd251bd279"
      },
      "execution_count": null,
      "outputs": [
        {
          "output_type": "stream",
          "name": "stderr",
          "text": [
            "<ipython-input-119-09ef7c435099>:1: FutureWarning: Indexing a DataFrame with a datetimelike index using a single string to slice the rows, like `frame[string]`, is deprecated and will be removed in a future version. Use `frame.loc[string]` instead.\n",
            "  df_2023 = dfs['2023']\n"
          ]
        },
        {
          "output_type": "display_data",
          "data": {
            "text/plain": [
              "<Figure size 640x480 with 1 Axes>"
            ],
            "image/png": "[encoded data removed]"
          },
          "metadata": {}
        }
      ]
    },
    {
      "cell_type": "code",
      "source": [
        "modellin= SVR(kernel= 'linear',C=1,epsilon= 0.001,gamma=0.0001)\n",
        "modellin.fit(X_train,np.ravel(y_train))"
      ],
      "metadata": {
        "colab": {
          "base_uri": "https://localhost:8080/",
          "height": 74
        },
        "id": "zldfE8Gu3HXc",
        "outputId": "ecd52e80-393f-421a-9fbf-85c44a98a590"
      },
      "execution_count": null,
      "outputs": [
        {
          "output_type": "execute_result",
          "data": {
            "text/plain": [
              "SVR(C=1, epsilon=0.001, gamma=0.0001, kernel='linear')"
            ],
            "text/html": [
              "<style>#sk-container-id-5 {color: black;background-color: white;}#sk-container-id-5 pre{padding: 0;}#sk-container-id-5 div.sk-toggleable {background-color: white;}#sk-container-id-5 label.sk-toggleable__label {cursor: pointer;display: block;width: 100%;margin-bottom: 0;padding: 0.3em;box-sizing: border-box;text-align: center;}#sk-container-id-5 label.sk-toggleable__label-arrow:before {content: \"▸\";float: left;margin-right: 0.25em;color: #696969;}#sk-container-id-5 label.sk-toggleable__label-arrow:hover:before {color: black;}#sk-container-id-5 div.sk-estimator:hover label.sk-toggleable__label-arrow:before {color: black;}#sk-container-id-5 div.sk-toggleable__content {max-height: 0;max-width: 0;overflow: hidden;text-align: left;background-color: #f0f8ff;}#sk-container-id-5 div.sk-toggleable__content pre {margin: 0.2em;color: black;border-radius: 0.25em;background-color: #f0f8ff;}#sk-container-id-5 input.sk-toggleable__control:checked~div.sk-toggleable__content {max-height: 200px;max-width: 100%;overflow: auto;}#sk-container-id-5 input.sk-toggleable__control:checked~label.sk-toggleable__label-arrow:before {content: \"▾\";}#sk-container-id-5 div.sk-estimator input.sk-toggleable__control:checked~label.sk-toggleable__label {background-color: #d4ebff;}#sk-container-id-5 div.sk-label input.sk-toggleable__control:checked~label.sk-toggleable__label {background-color: #d4ebff;}#sk-container-id-5 input.sk-hidden--visually {border: 0;clip: rect(1px 1px 1px 1px);clip: rect(1px, 1px, 1px, 1px);height: 1px;margin: -1px;overflow: hidden;padding: 0;position: absolute;width: 1px;}#sk-container-id-5 div.sk-estimator {font-family: monospace;background-color: #f0f8ff;border: 1px dotted black;border-radius: 0.25em;box-sizing: border-box;margin-bottom: 0.5em;}#sk-container-id-5 div.sk-estimator:hover {background-color: #d4ebff;}#sk-container-id-5 div.sk-parallel-item::after {content: \"\";width: 100%;border-bottom: 1px solid gray;flex-grow: 1;}#sk-container-id-5 div.sk-label:hover label.sk-toggleable__label {background-color: #d4ebff;}#sk-container-id-5 div.sk-serial::before {content: \"\";position: absolute;border-left: 1px solid gray;box-sizing: border-box;top: 0;bottom: 0;left: 50%;z-index: 0;}#sk-container-id-5 div.sk-serial {display: flex;flex-direction: column;align-items: center;background-color: white;padding-right: 0.2em;padding-left: 0.2em;position: relative;}#sk-container-id-5 div.sk-item {position: relative;z-index: 1;}#sk-container-id-5 div.sk-parallel {display: flex;align-items: stretch;justify-content: center;background-color: white;position: relative;}#sk-container-id-5 div.sk-item::before, #sk-container-id-5 div.sk-parallel-item::before {content: \"\";position: absolute;border-left: 1px solid gray;box-sizing: border-box;top: 0;bottom: 0;left: 50%;z-index: -1;}#sk-container-id-5 div.sk-parallel-item {display: flex;flex-direction: column;z-index: 1;position: relative;background-color: white;}#sk-container-id-5 div.sk-parallel-item:first-child::after {align-self: flex-end;width: 50%;}#sk-container-id-5 div.sk-parallel-item:last-child::after {align-self: flex-start;width: 50%;}#sk-container-id-5 div.sk-parallel-item:only-child::after {width: 0;}#sk-container-id-5 div.sk-dashed-wrapped {border: 1px dashed gray;margin: 0 0.4em 0.5em 0.4em;box-sizing: border-box;padding-bottom: 0.4em;background-color: white;}#sk-container-id-5 div.sk-label label {font-family: monospace;font-weight: bold;display: inline-block;line-height: 1.2em;}#sk-container-id-5 div.sk-label-container {text-align: center;}#sk-container-id-5 div.sk-container {/* jupyter's `normalize.less` sets `[hidden] { display: none; }` but bootstrap.min.css set `[hidden] { display: none !important; }` so we also need the `!important` here to be able to override the default hidden behavior on the sphinx rendered scikit-learn.org. See: https://github.com/scikit-learn/scikit-learn/issues/21755 */display: inline-block !important;position: relative;}#sk-container-id-5 div.sk-text-repr-fallback {display: none;}</style><div id=\"sk-container-id-5\" class=\"sk-top-container\"><div class=\"sk-text-repr-fallback\"><pre>SVR(C=1, epsilon=0.001, gamma=0.0001, kernel=&#x27;linear&#x27;)</pre><b>In a Jupyter environment, please rerun this cell to show the HTML representation or trust the notebook. <br />On GitHub, the HTML representation is unable to render, please try loading this page with nbviewer.org.</b></div><div class=\"sk-container\" hidden><div class=\"sk-item\"><div class=\"sk-estimator sk-toggleable\"><input class=\"sk-toggleable__control sk-hidden--visually\" id=\"sk-estimator-id-5\" type=\"checkbox\" checked><label for=\"sk-estimator-id-5\" class=\"sk-toggleable__label sk-toggleable__label-arrow\">SVR</label><div class=\"sk-toggleable__content\"><pre>SVR(C=1, epsilon=0.001, gamma=0.0001, kernel=&#x27;linear&#x27;)</pre></div></div></div></div></div>"
            ]
          },
          "metadata": {},
          "execution_count": 120
        }
      ]
    },
    {
      "cell_type": "code",
      "source": [
        "y_pred_testlin = modellin.predict(X_test)\n",
        "y_pred_trainlin = modellin.predict(X_train)"
      ],
      "metadata": {
        "id": "1i_0TMt224HM"
      },
      "execution_count": null,
      "outputs": []
    },
    {
      "cell_type": "code",
      "source": [
        "from sklearn.metrics import mean_absolute_error\n",
        "print('MSE Train{0:.5f}'.format(mean_absolute_error(y_train,y_pred_trainlin)))\n",
        "\n",
        "print('MSE Train{0:.5f}'.format(mean_absolute_error(y_test,y_pred_testlin)))"
      ],
      "metadata": {
        "colab": {
          "base_uri": "https://localhost:8080/"
        },
        "outputId": "493c5de4-cd38-4bbd-d00c-8da424756d8f",
        "id": "zjVK3s3O24HN"
      },
      "execution_count": null,
      "outputs": [
        {
          "output_type": "stream",
          "name": "stdout",
          "text": [
            "MSE Train0.00033\n",
            "MSE Train0.00034\n"
          ]
        }
      ]
    },
    {
      "cell_type": "code",
      "source": [
        "from sklearn.metrics import r2_score\n",
        "print('R2{0:.5f}'.format(r2_score(y_train,y_pred_trainlin)))\n",
        "from sklearn.metrics import r2_score\n",
        "print('R2{0:.5f}'.format(r2_score(y_test,y_pred_testlin)))"
      ],
      "metadata": {
        "colab": {
          "base_uri": "https://localhost:8080/"
        },
        "outputId": "b4d6cb58-c805-4b44-d11b-20373faf23d0",
        "id": "K9NXH7kR24HP"
      },
      "execution_count": null,
      "outputs": [
        {
          "output_type": "stream",
          "name": "stdout",
          "text": [
            "R21.00000\n",
            "R21.00000\n"
          ]
        }
      ]
    },
    {
      "cell_type": "code",
      "source": [
        "# Hitung MSE (Mean Squared Error)\n",
        "mse = mean_squared_error(y_test,y_pred_testlin)\n",
        "\n",
        "# Hitung RMSE (Root Mean Squared Error)\n",
        "rmse = np.sqrt(mse)\n",
        "\n",
        "print(rmse)"
      ],
      "metadata": {
        "colab": {
          "base_uri": "https://localhost:8080/"
        },
        "outputId": "bd22c60c-2f83-4d87-f91d-0f015d10266b",
        "id": "jhiv-y0m24HQ"
      },
      "execution_count": null,
      "outputs": [
        {
          "output_type": "stream",
          "name": "stdout",
          "text": [
            "0.0004217950290734145\n"
          ]
        }
      ]
    },
    {
      "cell_type": "code",
      "source": [
        "modelpol= SVR(kernel= 'poly',C=10,epsilon= 0.001,gamma=0.1,degree=2)\n",
        "modelpol.fit(X_train,np.ravel(y_train))"
      ],
      "metadata": {
        "colab": {
          "base_uri": "https://localhost:8080/",
          "height": 74
        },
        "outputId": "ee9ae61a-46f1-495f-d5b9-d330f66d8f12",
        "id": "msYNWMeo24HR"
      },
      "execution_count": null,
      "outputs": [
        {
          "output_type": "execute_result",
          "data": {
            "text/plain": [
              "SVR(C=10, degree=2, epsilon=0.001, gamma=0.1, kernel='poly')"
            ],
            "text/html": [
              "<style>#sk-container-id-6 {color: black;background-color: white;}#sk-container-id-6 pre{padding: 0;}#sk-container-id-6 div.sk-toggleable {background-color: white;}#sk-container-id-6 label.sk-toggleable__label {cursor: pointer;display: block;width: 100%;margin-bottom: 0;padding: 0.3em;box-sizing: border-box;text-align: center;}#sk-container-id-6 label.sk-toggleable__label-arrow:before {content: \"▸\";float: left;margin-right: 0.25em;color: #696969;}#sk-container-id-6 label.sk-toggleable__label-arrow:hover:before {color: black;}#sk-container-id-6 div.sk-estimator:hover label.sk-toggleable__label-arrow:before {color: black;}#sk-container-id-6 div.sk-toggleable__content {max-height: 0;max-width: 0;overflow: hidden;text-align: left;background-color: #f0f8ff;}#sk-container-id-6 div.sk-toggleable__content pre {margin: 0.2em;color: black;border-radius: 0.25em;background-color: #f0f8ff;}#sk-container-id-6 input.sk-toggleable__control:checked~div.sk-toggleable__content {max-height: 200px;max-width: 100%;overflow: auto;}#sk-container-id-6 input.sk-toggleable__control:checked~label.sk-toggleable__label-arrow:before {content: \"▾\";}#sk-container-id-6 div.sk-estimator input.sk-toggleable__control:checked~label.sk-toggleable__label {background-color: #d4ebff;}#sk-container-id-6 div.sk-label input.sk-toggleable__control:checked~label.sk-toggleable__label {background-color: #d4ebff;}#sk-container-id-6 input.sk-hidden--visually {border: 0;clip: rect(1px 1px 1px 1px);clip: rect(1px, 1px, 1px, 1px);height: 1px;margin: -1px;overflow: hidden;padding: 0;position: absolute;width: 1px;}#sk-container-id-6 div.sk-estimator {font-family: monospace;background-color: #f0f8ff;border: 1px dotted black;border-radius: 0.25em;box-sizing: border-box;margin-bottom: 0.5em;}#sk-container-id-6 div.sk-estimator:hover {background-color: #d4ebff;}#sk-container-id-6 div.sk-parallel-item::after {content: \"\";width: 100%;border-bottom: 1px solid gray;flex-grow: 1;}#sk-container-id-6 div.sk-label:hover label.sk-toggleable__label {background-color: #d4ebff;}#sk-container-id-6 div.sk-serial::before {content: \"\";position: absolute;border-left: 1px solid gray;box-sizing: border-box;top: 0;bottom: 0;left: 50%;z-index: 0;}#sk-container-id-6 div.sk-serial {display: flex;flex-direction: column;align-items: center;background-color: white;padding-right: 0.2em;padding-left: 0.2em;position: relative;}#sk-container-id-6 div.sk-item {position: relative;z-index: 1;}#sk-container-id-6 div.sk-parallel {display: flex;align-items: stretch;justify-content: center;background-color: white;position: relative;}#sk-container-id-6 div.sk-item::before, #sk-container-id-6 div.sk-parallel-item::before {content: \"\";position: absolute;border-left: 1px solid gray;box-sizing: border-box;top: 0;bottom: 0;left: 50%;z-index: -1;}#sk-container-id-6 div.sk-parallel-item {display: flex;flex-direction: column;z-index: 1;position: relative;background-color: white;}#sk-container-id-6 div.sk-parallel-item:first-child::after {align-self: flex-end;width: 50%;}#sk-container-id-6 div.sk-parallel-item:last-child::after {align-self: flex-start;width: 50%;}#sk-container-id-6 div.sk-parallel-item:only-child::after {width: 0;}#sk-container-id-6 div.sk-dashed-wrapped {border: 1px dashed gray;margin: 0 0.4em 0.5em 0.4em;box-sizing: border-box;padding-bottom: 0.4em;background-color: white;}#sk-container-id-6 div.sk-label label {font-family: monospace;font-weight: bold;display: inline-block;line-height: 1.2em;}#sk-container-id-6 div.sk-label-container {text-align: center;}#sk-container-id-6 div.sk-container {/* jupyter's `normalize.less` sets `[hidden] { display: none; }` but bootstrap.min.css set `[hidden] { display: none !important; }` so we also need the `!important` here to be able to override the default hidden behavior on the sphinx rendered scikit-learn.org. See: https://github.com/scikit-learn/scikit-learn/issues/21755 */display: inline-block !important;position: relative;}#sk-container-id-6 div.sk-text-repr-fallback {display: none;}</style><div id=\"sk-container-id-6\" class=\"sk-top-container\"><div class=\"sk-text-repr-fallback\"><pre>SVR(C=10, degree=2, epsilon=0.001, gamma=0.1, kernel=&#x27;poly&#x27;)</pre><b>In a Jupyter environment, please rerun this cell to show the HTML representation or trust the notebook. <br />On GitHub, the HTML representation is unable to render, please try loading this page with nbviewer.org.</b></div><div class=\"sk-container\" hidden><div class=\"sk-item\"><div class=\"sk-estimator sk-toggleable\"><input class=\"sk-toggleable__control sk-hidden--visually\" id=\"sk-estimator-id-6\" type=\"checkbox\" checked><label for=\"sk-estimator-id-6\" class=\"sk-toggleable__label sk-toggleable__label-arrow\">SVR</label><div class=\"sk-toggleable__content\"><pre>SVR(C=10, degree=2, epsilon=0.001, gamma=0.1, kernel=&#x27;poly&#x27;)</pre></div></div></div></div></div>"
            ]
          },
          "metadata": {},
          "execution_count": 125
        }
      ]
    },
    {
      "cell_type": "code",
      "source": [
        "y_pred_testpol = modelpol.predict(X_test)\n",
        "y_pred_trainpol = modelpol.predict(X_train)"
      ],
      "metadata": {
        "id": "piRwjjMc24HS"
      },
      "execution_count": null,
      "outputs": []
    },
    {
      "cell_type": "code",
      "source": [
        "from sklearn.metrics import mean_absolute_error\n",
        "print('MSE Train{0:.5f}'.format(mean_absolute_error(y_train,y_pred_trainpol)))\n",
        "\n",
        "print('MSE Train{0:.5f}'.format(mean_absolute_error(y_test,y_pred_testpol)))"
      ],
      "metadata": {
        "colab": {
          "base_uri": "https://localhost:8080/"
        },
        "outputId": "984fe077-43b5-4856-e716-fd46f76b3346",
        "id": "CM-G1PbY24HT"
      },
      "execution_count": null,
      "outputs": [
        {
          "output_type": "stream",
          "name": "stdout",
          "text": [
            "MSE Train0.02947\n",
            "MSE Train0.03477\n"
          ]
        }
      ]
    },
    {
      "cell_type": "code",
      "source": [
        "from sklearn.metrics import r2_score\n",
        "print('R2{0:.5f}'.format(r2_score(y_train,y_pred_trainpol)))\n",
        "from sklearn.metrics import r2_score\n",
        "print('R2{0:.5f}'.format(r2_score(y_test,y_pred_testpol)))"
      ],
      "metadata": {
        "colab": {
          "base_uri": "https://localhost:8080/"
        },
        "outputId": "befae4a7-64c9-439a-cf07-d7309a76e044",
        "id": "Ip3zhSlw24HU"
      },
      "execution_count": null,
      "outputs": [
        {
          "output_type": "stream",
          "name": "stdout",
          "text": [
            "R20.87971\n",
            "R20.86619\n"
          ]
        }
      ]
    },
    {
      "cell_type": "code",
      "source": [
        "# Hitung MSE (Mean Squared Error)\n",
        "mse = mean_squared_error(y_test,y_pred_testpol)\n",
        "\n",
        "# Hitung RMSE (Root Mean Squared Error)\n",
        "rmse = np.sqrt(mse)\n",
        "\n",
        "print(rmse)"
      ],
      "metadata": {
        "colab": {
          "base_uri": "https://localhost:8080/"
        },
        "outputId": "b0b1c998-2e8c-4836-f2dd-5751e282c135",
        "id": "4tch3r7f24HV"
      },
      "execution_count": null,
      "outputs": [
        {
          "output_type": "stream",
          "name": "stdout",
          "text": [
            "0.07496240863523441\n"
          ]
        }
      ]
    },
    {
      "cell_type": "markdown",
      "source": [
        "# Bagian Baru"
      ],
      "metadata": {
        "id": "NEjOXLqeRhol"
      }
    },
    {
      "cell_type": "code",
      "source": [],
      "metadata": {
        "id": "8ELHVYXsi8ug"
      },
      "execution_count": null,
      "outputs": []
    },
    {
      "cell_type": "markdown",
      "source": [
        "#"
      ],
      "metadata": {
        "id": "n8nRkifGIKiL"
      }
    }
  ]
}